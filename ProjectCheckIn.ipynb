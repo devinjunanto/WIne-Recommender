{
 "cells": [
  {
   "cell_type": "markdown",
   "metadata": {},
   "source": [
    "# COGS 108 Final Project Check-In"
   ]
  },
  {
   "cell_type": "markdown",
   "metadata": {},
   "source": [
    "# Names\n",
    "\n",
    "- Devin Junanto\n",
    "- Gabriela Shirley\n",
    "- Natalia Sudjana\n",
    "- Shih Gau Peng"
   ]
  },
  {
   "cell_type": "markdown",
   "metadata": {},
   "source": [
    "# Group Members IDs\n",
    "\n",
    "- A15754079\n",
    "- A16095578\n",
    "- A16112711\n",
    "- A16059733"
   ]
  },
  {
   "cell_type": "markdown",
   "metadata": {},
   "source": [
    "# Accomplishments"
   ]
  },
  {
   "cell_type": "markdown",
   "metadata": {},
   "source": [
    "\n",
    "We are currently in the data wrangling stage and we have begun to drop some of the unnecessary values that we would not need and are trying to gather our ideas and see what would be a good explanation as to how the data come about."
   ]
  },
  {
   "cell_type": "markdown",
   "metadata": {},
   "source": [
    "# Going Well"
   ]
  },
  {
   "cell_type": "markdown",
   "metadata": {},
   "source": [
    "\n",
    "Our group has started to do the project one step at a time and we are trying our best for the project. We are communicating regularly with good communication and we are all working together to do this project"
   ]
  },
  {
   "cell_type": "markdown",
   "metadata": {},
   "source": [
    "# Struggles"
   ]
  },
  {
   "cell_type": "markdown",
   "metadata": {},
   "source": [
    "\n",
    "We are very behind schedule, we were supposed to finish the data wrangling but we are still trying to sort them out. At times we are unsure whether to keep the data or not and if what we are doing will help solve our initial plan or hypothesis. With the data that we are collecting, we are unsure if they can help us or if some of the data is unnecessary. We are also having a hard time finding the time to finish up the data wrangling and continuing with the project."
   ]
  },
  {
   "cell_type": "markdown",
   "metadata": {},
   "source": [
    "# Plan Forward"
   ]
  },
  {
   "cell_type": "markdown",
   "metadata": {},
   "source": [
    "\n",
    "The plan is to quickly finish up the data wrangling so we could be able to move onto the next step of the schedule which is to begin the analysis, to draw conclusions or hypothesis and to continue and find the answers to our questions. We would gather what data we have and would look at different aspects of it and reach a conclusion. We hope to be able to have more time and work on the project more often to have a successful completion of the project."
   ]
  }
 ],
 "metadata": {
  "kernelspec": {
   "display_name": "Python 3",
   "language": "python",
   "name": "python3"
  },
  "language_info": {
   "codemirror_mode": {
    "name": "ipython",
    "version": 3
   },
   "file_extension": ".py",
   "mimetype": "text/x-python",
   "name": "python",
   "nbconvert_exporter": "python",
   "pygments_lexer": "ipython3",
   "version": "3.6.8"
  }
 },
 "nbformat": 4,
 "nbformat_minor": 2
}
