{
 "cells": [
  {
   "cell_type": "markdown",
   "metadata": {},
   "source": [
    "# COGS 108 - Final Project "
   ]
  },
  {
   "cell_type": "markdown",
   "metadata": {},
   "source": [
    "## Permissions"
   ]
  },
  {
   "cell_type": "markdown",
   "metadata": {},
   "source": [
    "Place an `X` in the appropriate bracket below to specify if you would like your group's project to be made available to the public. (Note that PIDs will be scraped from the public submission, but student names will be included.)\n",
    "\n",
    "* [  ] YES - make available\n",
    "* [ x ] NO - keep private"
   ]
  },
  {
   "cell_type": "markdown",
   "metadata": {},
   "source": [
    "# Overview"
   ]
  },
  {
   "cell_type": "markdown",
   "metadata": {},
   "source": [
    "There have been some debates about the best wine overall and favorites of top 19 wine enthusiasts, or which country relatively produces better wines compared to the others, for example: U.S vs European countries. We would take statistical analysis on the wine review dataset to identify the highest rated wines, while comparing between wineries, vineyards, type of grapes, prices, and regions. We would then reach the conclusion regarding which wine is the best wine. "
   ]
  },
  {
   "cell_type": "markdown",
   "metadata": {},
   "source": [
    "# Names\n",
    "\n",
    "- Devin Junanto\n",
    "- Gabriela Shirley\n",
    "- Natalia Sudjana\n",
    "- Shih Gau Peng"
   ]
  },
  {
   "cell_type": "markdown",
   "metadata": {},
   "source": [
    "# Group Members IDs\n",
    "\n",
    "- A15754079\n",
    "- A16095578\n",
    "- A16112711\n",
    "- A16059733"
   ]
  },
  {
   "cell_type": "markdown",
   "metadata": {},
   "source": [
    "# Research Question"
   ]
  },
  {
   "cell_type": "markdown",
   "metadata": {},
   "source": [
    "1. What is the best wine overall based on the ratings given by wine enthusiasts?\n",
    "2. Which continent, and country more specifically, produce the most high-rated wines? \n",
    "3. What type of grapes relatively produce the most high-rated wines?\n",
    "4. Does the age (in year) of the wine as well as the price determine the wine ratings?\n",
    "5. Which wines are good recommendations to the wine tasters based on their ‘winery’ and ‘types of grapes’ preferences?\n",
    "6. Predict the points given to a new wine based on its winery, variety (type of grapes), country, continent, age, and price."
   ]
  },
  {
   "cell_type": "markdown",
   "metadata": {},
   "source": [
    "## Background and Prior Work"
   ]
  },
  {
   "cell_type": "markdown",
   "metadata": {},
   "source": [
    "Winer are ever changing in relation to time. People’s taste buds vary but there may be a similarity of tastes once we analyze our big data sets. Every county, province, state, and country offers a breadth of wine varietal. Thus, through this project, we put high interest to identify which region produces the high-rated wines based on the points given by nineteen wine enthusiasts.\n",
    "\n",
    "Based on some prior works that we looked into, the best wine overall is Promontory 2013 from Napa Valley, U.S.2. While from another source, Chateau Montelena Napa Valley Chardonnay 2016 from Napa Valley, U.S.3 is on the top of the list, with another similar wine type named Chateau Leoville Barton St. Julien 2016 from France that also placed first out of 100 on a different source4. By comparing these top three sources from the internet, we could see how different their answers to the question “What is the best wine overall?”. Looking at varying sources, we could not rely on one as each source would have different research techniques to build up their lists. Therefore, as to fulfill our team’s curiosity of the real wine ratings and countries that produce them, we would analyze the “Wine Reviews” dataset1 from 2018 to come up with answers to our research questions.\n",
    "\n",
    "The wine datasets from Kaggle gathered as much as 130,000 wines which contain several variables such as the variety, winery, price, description, and ratings as well as where they were produced which would help us analyze the findings and recommend wines to the wine tasters . We would like to gather what we have learned in class and use that knowledge to wrangle and analyze data until we come to a conclusion, while we are taking into account the people's privacy.\n",
    "\n",
    "References (include links):\n",
    "\n",
    "1) https://www.kaggle.com/zynicide/wine-reviews#winemag-data_first150k.csv\n",
    "\n",
    "2) https://robbreport.com/best-of-the-best/2019-best-wine-285174\n",
    "\n",
    "3) https://vinepair.com/articles/best-wines-2019/\n",
    "\n",
    "4) https://top100.winespectator.com/lists/\n"
   ]
  },
  {
   "cell_type": "markdown",
   "metadata": {},
   "source": [
    "# Hypothesis\n"
   ]
  },
  {
   "cell_type": "markdown",
   "metadata": {},
   "source": [
    "1. We hypothesize that the type of wines that wine testers prefer come from they type of grape called Chardonnay as the type of grapes most preferred as well as the highest rated wine being the Chateau Montelena Napa Valley Chardonnay 2016. \n",
    "2. We hypothesize as the wine ages more, they increase in value in terms of quality and price which can increase the ratings of the wine as more wine enthusiasts enjoy an aged wine.\n",
    "3. We hypothesize that Europe as a continent and Russia as a country produces the highest rated wines as they are well known for their wines as well as Russia being the most populated country in Europe."
   ]
  },
  {
   "cell_type": "markdown",
   "metadata": {},
   "source": [
    "# Dataset(s)"
   ]
  },
  {
   "cell_type": "markdown",
   "metadata": {},
   "source": [
    "Dataset Name: Wine Reviews 2018\n",
    "\n",
    "Link to the dataset: https://www.kaggle.com/zynicide/wine-reviews#winemag-data-130k-v2.csv\n",
    "\n",
    "Number of observations: 130,000 rows, 14 columns\n",
    "\n",
    "Description: this dataset was scraped from WineEnthusiast around June 2017, and updated around November 2017 which contains 130,000 wine reviews with variety, location, winery, price, and descriptions."
   ]
  },
  {
   "cell_type": "markdown",
   "metadata": {},
   "source": [
    "# Setup"
   ]
  },
  {
   "cell_type": "markdown",
   "metadata": {},
   "source": [
    "##### 1.1 Import library"
   ]
  },
  {
   "cell_type": "code",
   "execution_count": 1,
   "metadata": {},
   "outputs": [],
   "source": [
    "import numpy as np\n",
    "import gzip\n",
    "import urllib.request\n",
    "import tarfile\n",
    "import random\n",
    "import string\n",
    "from copy import deepcopy\n",
    "import pandas as pd\n",
    "from collections import defaultdict\n",
    "import json\n",
    "from sklearn.metrics import mean_squared_error\n",
    "from sklearn import linear_model\n",
    "from sklearn.svm import LinearSVC\n",
    "import matplotlib.pyplot as plt\n",
    "import re\n",
    "import matplotlib as mpl\n",
    "import matplotlib.pyplot as plt\n",
    "import patsy\n",
    "import statsmodels.api as sm\n",
    "import seaborn as sns\n",
    "%matplotlib notebook"
   ]
  },
  {
   "cell_type": "code",
   "execution_count": 2,
   "metadata": {},
   "outputs": [],
   "source": [
    "##### 1.2 Read data from json file"
   ]
  },
  {
   "cell_type": "code",
   "execution_count": 3,
   "metadata": {},
   "outputs": [],
   "source": [
    "df_wine = pd.read_json(\"winemag-data-130k-v2.json\")"
   ]
  },
  {
   "cell_type": "code",
   "execution_count": 4,
   "metadata": {},
   "outputs": [],
   "source": [
    "##### 1.3 Check column labels"
   ]
  },
  {
   "cell_type": "code",
   "execution_count": 5,
   "metadata": {},
   "outputs": [
    {
     "data": {
      "text/plain": [
       "array(['points', 'title', 'description', 'taster_name',\n",
       "       'taster_twitter_handle', 'price', 'designation', 'variety',\n",
       "       'region_1', 'region_2', 'province', 'country', 'winery'],\n",
       "      dtype=object)"
      ]
     },
     "execution_count": 5,
     "metadata": {},
     "output_type": "execute_result"
    }
   ],
   "source": [
    "df_wine.columns.values"
   ]
  },
  {
   "cell_type": "markdown",
   "metadata": {},
   "source": [
    "# Data Cleaning"
   ]
  },
  {
   "cell_type": "markdown",
   "metadata": {},
   "source": [
    "##### 2.1 Remove unnecessary columns"
   ]
  },
  {
   "cell_type": "code",
   "execution_count": 6,
   "metadata": {},
   "outputs": [],
   "source": [
    "df_wine = df_wine.drop(['province', 'region_1', 'region_2', 'description', 'taster_twitter_handle'], axis=1)"
   ]
  },
  {
   "cell_type": "code",
   "execution_count": 7,
   "metadata": {},
   "outputs": [
    {
     "data": {
      "text/html": [
       "<div>\n",
       "<style scoped>\n",
       "    .dataframe tbody tr th:only-of-type {\n",
       "        vertical-align: middle;\n",
       "    }\n",
       "\n",
       "    .dataframe tbody tr th {\n",
       "        vertical-align: top;\n",
       "    }\n",
       "\n",
       "    .dataframe thead th {\n",
       "        text-align: right;\n",
       "    }\n",
       "</style>\n",
       "<table border=\"1\" class=\"dataframe\">\n",
       "  <thead>\n",
       "    <tr style=\"text-align: right;\">\n",
       "      <th></th>\n",
       "      <th>points</th>\n",
       "      <th>title</th>\n",
       "      <th>taster_name</th>\n",
       "      <th>price</th>\n",
       "      <th>designation</th>\n",
       "      <th>variety</th>\n",
       "      <th>country</th>\n",
       "      <th>winery</th>\n",
       "    </tr>\n",
       "  </thead>\n",
       "  <tbody>\n",
       "    <tr>\n",
       "      <th>0</th>\n",
       "      <td>87</td>\n",
       "      <td>Nicosia 2013 Vulkà Bianco  (Etna)</td>\n",
       "      <td>Kerin O’Keefe</td>\n",
       "      <td>NaN</td>\n",
       "      <td>Vulkà Bianco</td>\n",
       "      <td>White Blend</td>\n",
       "      <td>Italy</td>\n",
       "      <td>Nicosia</td>\n",
       "    </tr>\n",
       "    <tr>\n",
       "      <th>1</th>\n",
       "      <td>87</td>\n",
       "      <td>Quinta dos Avidagos 2011 Avidagos Red (Douro)</td>\n",
       "      <td>Roger Voss</td>\n",
       "      <td>15.0</td>\n",
       "      <td>Avidagos</td>\n",
       "      <td>Portuguese Red</td>\n",
       "      <td>Portugal</td>\n",
       "      <td>Quinta dos Avidagos</td>\n",
       "    </tr>\n",
       "    <tr>\n",
       "      <th>2</th>\n",
       "      <td>87</td>\n",
       "      <td>Rainstorm 2013 Pinot Gris (Willamette Valley)</td>\n",
       "      <td>Paul Gregutt</td>\n",
       "      <td>14.0</td>\n",
       "      <td>None</td>\n",
       "      <td>Pinot Gris</td>\n",
       "      <td>US</td>\n",
       "      <td>Rainstorm</td>\n",
       "    </tr>\n",
       "    <tr>\n",
       "      <th>3</th>\n",
       "      <td>87</td>\n",
       "      <td>St. Julian 2013 Reserve Late Harvest Riesling ...</td>\n",
       "      <td>Alexander Peartree</td>\n",
       "      <td>13.0</td>\n",
       "      <td>Reserve Late Harvest</td>\n",
       "      <td>Riesling</td>\n",
       "      <td>US</td>\n",
       "      <td>St. Julian</td>\n",
       "    </tr>\n",
       "    <tr>\n",
       "      <th>4</th>\n",
       "      <td>87</td>\n",
       "      <td>Sweet Cheeks 2012 Vintner's Reserve Wild Child...</td>\n",
       "      <td>Paul Gregutt</td>\n",
       "      <td>65.0</td>\n",
       "      <td>Vintner's Reserve Wild Child Block</td>\n",
       "      <td>Pinot Noir</td>\n",
       "      <td>US</td>\n",
       "      <td>Sweet Cheeks</td>\n",
       "    </tr>\n",
       "    <tr>\n",
       "      <th>...</th>\n",
       "      <td>...</td>\n",
       "      <td>...</td>\n",
       "      <td>...</td>\n",
       "      <td>...</td>\n",
       "      <td>...</td>\n",
       "      <td>...</td>\n",
       "      <td>...</td>\n",
       "      <td>...</td>\n",
       "    </tr>\n",
       "    <tr>\n",
       "      <th>129966</th>\n",
       "      <td>90</td>\n",
       "      <td>Dr. H. Thanisch (Erben Müller-Burggraef) 2013 ...</td>\n",
       "      <td>Anna Lee C. Iijima</td>\n",
       "      <td>28.0</td>\n",
       "      <td>Brauneberger Juffer-Sonnenuhr Spätlese</td>\n",
       "      <td>Riesling</td>\n",
       "      <td>Germany</td>\n",
       "      <td>Dr. H. Thanisch (Erben Müller-Burggraef)</td>\n",
       "    </tr>\n",
       "    <tr>\n",
       "      <th>129967</th>\n",
       "      <td>90</td>\n",
       "      <td>Citation 2004 Pinot Noir (Oregon)</td>\n",
       "      <td>Paul Gregutt</td>\n",
       "      <td>75.0</td>\n",
       "      <td>None</td>\n",
       "      <td>Pinot Noir</td>\n",
       "      <td>US</td>\n",
       "      <td>Citation</td>\n",
       "    </tr>\n",
       "    <tr>\n",
       "      <th>129968</th>\n",
       "      <td>90</td>\n",
       "      <td>Domaine Gresser 2013 Kritt Gewurztraminer (Als...</td>\n",
       "      <td>Roger Voss</td>\n",
       "      <td>30.0</td>\n",
       "      <td>Kritt</td>\n",
       "      <td>Gewürztraminer</td>\n",
       "      <td>France</td>\n",
       "      <td>Domaine Gresser</td>\n",
       "    </tr>\n",
       "    <tr>\n",
       "      <th>129969</th>\n",
       "      <td>90</td>\n",
       "      <td>Domaine Marcel Deiss 2012 Pinot Gris (Alsace)</td>\n",
       "      <td>Roger Voss</td>\n",
       "      <td>32.0</td>\n",
       "      <td>None</td>\n",
       "      <td>Pinot Gris</td>\n",
       "      <td>France</td>\n",
       "      <td>Domaine Marcel Deiss</td>\n",
       "    </tr>\n",
       "    <tr>\n",
       "      <th>129970</th>\n",
       "      <td>90</td>\n",
       "      <td>Domaine Schoffit 2012 Lieu-dit Harth Cuvée Car...</td>\n",
       "      <td>Roger Voss</td>\n",
       "      <td>21.0</td>\n",
       "      <td>Lieu-dit Harth Cuvée Caroline</td>\n",
       "      <td>Gewürztraminer</td>\n",
       "      <td>France</td>\n",
       "      <td>Domaine Schoffit</td>\n",
       "    </tr>\n",
       "  </tbody>\n",
       "</table>\n",
       "<p>129971 rows × 8 columns</p>\n",
       "</div>"
      ],
      "text/plain": [
       "        points                                              title  \\\n",
       "0           87                  Nicosia 2013 Vulkà Bianco  (Etna)   \n",
       "1           87      Quinta dos Avidagos 2011 Avidagos Red (Douro)   \n",
       "2           87      Rainstorm 2013 Pinot Gris (Willamette Valley)   \n",
       "3           87  St. Julian 2013 Reserve Late Harvest Riesling ...   \n",
       "4           87  Sweet Cheeks 2012 Vintner's Reserve Wild Child...   \n",
       "...        ...                                                ...   \n",
       "129966      90  Dr. H. Thanisch (Erben Müller-Burggraef) 2013 ...   \n",
       "129967      90                  Citation 2004 Pinot Noir (Oregon)   \n",
       "129968      90  Domaine Gresser 2013 Kritt Gewurztraminer (Als...   \n",
       "129969      90      Domaine Marcel Deiss 2012 Pinot Gris (Alsace)   \n",
       "129970      90  Domaine Schoffit 2012 Lieu-dit Harth Cuvée Car...   \n",
       "\n",
       "               taster_name  price                             designation  \\\n",
       "0            Kerin O’Keefe    NaN                            Vulkà Bianco   \n",
       "1               Roger Voss   15.0                                Avidagos   \n",
       "2             Paul Gregutt   14.0                                    None   \n",
       "3       Alexander Peartree   13.0                    Reserve Late Harvest   \n",
       "4             Paul Gregutt   65.0      Vintner's Reserve Wild Child Block   \n",
       "...                    ...    ...                                     ...   \n",
       "129966  Anna Lee C. Iijima   28.0  Brauneberger Juffer-Sonnenuhr Spätlese   \n",
       "129967        Paul Gregutt   75.0                                    None   \n",
       "129968          Roger Voss   30.0                                   Kritt   \n",
       "129969          Roger Voss   32.0                                    None   \n",
       "129970          Roger Voss   21.0           Lieu-dit Harth Cuvée Caroline   \n",
       "\n",
       "               variety   country                                    winery  \n",
       "0          White Blend     Italy                                   Nicosia  \n",
       "1       Portuguese Red  Portugal                       Quinta dos Avidagos  \n",
       "2           Pinot Gris        US                                 Rainstorm  \n",
       "3             Riesling        US                                St. Julian  \n",
       "4           Pinot Noir        US                              Sweet Cheeks  \n",
       "...                ...       ...                                       ...  \n",
       "129966        Riesling   Germany  Dr. H. Thanisch (Erben Müller-Burggraef)  \n",
       "129967      Pinot Noir        US                                  Citation  \n",
       "129968  Gewürztraminer    France                           Domaine Gresser  \n",
       "129969      Pinot Gris    France                      Domaine Marcel Deiss  \n",
       "129970  Gewürztraminer    France                          Domaine Schoffit  \n",
       "\n",
       "[129971 rows x 8 columns]"
      ]
     },
     "execution_count": 7,
     "metadata": {},
     "output_type": "execute_result"
    }
   ],
   "source": [
    "df_wine"
   ]
  },
  {
   "cell_type": "markdown",
   "metadata": {},
   "source": [
    "##### 2.2 Dropping all the none values"
   ]
  },
  {
   "cell_type": "code",
   "execution_count": 8,
   "metadata": {},
   "outputs": [
    {
     "name": "stderr",
     "output_type": "stream",
     "text": [
      "/Library/Frameworks/Python.framework/Versions/3.8/lib/python3.8/site-packages/pandas/core/ops/array_ops.py:253: FutureWarning: elementwise comparison failed; returning scalar instead, but in the future will perform elementwise comparison\n",
      "  res_values = method(rvalues)\n"
     ]
    }
   ],
   "source": [
    "df_wine = df_wine[df_wine.country != 'nan']\n",
    "df_wine = df_wine[df_wine.points != 'nan']\n",
    "df_wine = df_wine[df_wine.price != 'nan']\n",
    "df_wine = df_wine[df_wine.title != 'nan']\n",
    "df_wine = df_wine[df_wine.variety != 'nan']\n",
    "df_wine = df_wine[df_wine.winery != 'nan']"
   ]
  },
  {
   "cell_type": "markdown",
   "metadata": {},
   "source": [
    "##### 2.3 Get the continent based on the country given"
   ]
  },
  {
   "cell_type": "code",
   "execution_count": 9,
   "metadata": {},
   "outputs": [],
   "source": [
    "def continent(country):\n",
    "    if country in ['US', 'Canada', 'Mexico']:\n",
    "        return 'North America'\n",
    "    elif country in ['France', 'Italy', 'Spain', 'Portugal', 'Austria', 'Germany', 'Greece', 'Hungary', 'Bulgaria', 'Romania'\n",
    "                     , 'Turkey', 'Slovenia', 'Georgia', 'England', 'Croatia', 'Moldova', 'Ukraine', 'Macedonia', 'Czech Republic'\n",
    "                     , 'Serbia', 'Cyprus', 'Switzerland', 'Luxembourg', 'Bosnia and Herzegovina', 'Armenia', 'Slovakia']:\n",
    "        return 'Europe'\n",
    "    elif country in ['Chile', 'Argentina', 'Uruguay', 'Brazil', 'Peru']:\n",
    "        return 'South America'\n",
    "    elif country in ['Israel', 'India', 'China']:\n",
    "        return 'Asia'\n",
    "    elif country in ['Australia', 'New Zealand']:\n",
    "        return 'Oceania'\n",
    "    elif country in ['South Africa', 'Egypt', 'Morocco']:\n",
    "        return 'Africa'\n",
    "    else:\n",
    "        return np.nan"
   ]
  },
  {
   "cell_type": "code",
   "execution_count": 10,
   "metadata": {},
   "outputs": [],
   "source": [
    "df_wine['continent'] = df_wine['country'].apply(continent)"
   ]
  },
  {
   "cell_type": "markdown",
   "metadata": {},
   "source": [
    "##### 2.4 Get the year and age from the title of the wine"
   ]
  },
  {
   "cell_type": "code",
   "execution_count": 11,
   "metadata": {},
   "outputs": [],
   "source": [
    "def getYear(string):\n",
    "    splitStr = []\n",
    "    splitStr = string.split(' ')\n",
    "    for a in splitStr:\n",
    "        if a.isnumeric() == True:\n",
    "            if int(a) >= 1934 and int(a) <= 2020:\n",
    "                return a\n",
    "            else:\n",
    "                continue\n",
    "        else:\n",
    "            continue\n",
    "    return np.nan"
   ]
  },
  {
   "cell_type": "code",
   "execution_count": 12,
   "metadata": {},
   "outputs": [],
   "source": [
    "df_wine['year'] = df_wine['title'].apply(getYear)"
   ]
  },
  {
   "cell_type": "code",
   "execution_count": 13,
   "metadata": {},
   "outputs": [],
   "source": [
    "def getAge(year):\n",
    "    if type(year) == float:\n",
    "        return np.nan\n",
    "    else:\n",
    "        age = 2018 - int(year)\n",
    "        return age"
   ]
  },
  {
   "cell_type": "code",
   "execution_count": 14,
   "metadata": {},
   "outputs": [],
   "source": [
    "df_wine['age'] = df_wine['year'].apply(getAge)"
   ]
  },
  {
   "cell_type": "markdown",
   "metadata": {},
   "source": [
    "##### 2.5 Get the description of the data"
   ]
  },
  {
   "cell_type": "code",
   "execution_count": 15,
   "metadata": {},
   "outputs": [
    {
     "data": {
      "text/html": [
       "<div>\n",
       "<style scoped>\n",
       "    .dataframe tbody tr th:only-of-type {\n",
       "        vertical-align: middle;\n",
       "    }\n",
       "\n",
       "    .dataframe tbody tr th {\n",
       "        vertical-align: top;\n",
       "    }\n",
       "\n",
       "    .dataframe thead th {\n",
       "        text-align: right;\n",
       "    }\n",
       "</style>\n",
       "<table border=\"1\" class=\"dataframe\">\n",
       "  <thead>\n",
       "    <tr style=\"text-align: right;\">\n",
       "      <th></th>\n",
       "      <th>points</th>\n",
       "      <th>title</th>\n",
       "      <th>taster_name</th>\n",
       "      <th>price</th>\n",
       "      <th>designation</th>\n",
       "      <th>variety</th>\n",
       "      <th>country</th>\n",
       "      <th>winery</th>\n",
       "      <th>continent</th>\n",
       "      <th>year</th>\n",
       "      <th>age</th>\n",
       "    </tr>\n",
       "  </thead>\n",
       "  <tbody>\n",
       "    <tr>\n",
       "      <th>0</th>\n",
       "      <td>87</td>\n",
       "      <td>Nicosia 2013 Vulkà Bianco  (Etna)</td>\n",
       "      <td>Kerin O’Keefe</td>\n",
       "      <td>NaN</td>\n",
       "      <td>Vulkà Bianco</td>\n",
       "      <td>White Blend</td>\n",
       "      <td>Italy</td>\n",
       "      <td>Nicosia</td>\n",
       "      <td>Europe</td>\n",
       "      <td>2013</td>\n",
       "      <td>5.0</td>\n",
       "    </tr>\n",
       "    <tr>\n",
       "      <th>1</th>\n",
       "      <td>87</td>\n",
       "      <td>Quinta dos Avidagos 2011 Avidagos Red (Douro)</td>\n",
       "      <td>Roger Voss</td>\n",
       "      <td>15.0</td>\n",
       "      <td>Avidagos</td>\n",
       "      <td>Portuguese Red</td>\n",
       "      <td>Portugal</td>\n",
       "      <td>Quinta dos Avidagos</td>\n",
       "      <td>Europe</td>\n",
       "      <td>2011</td>\n",
       "      <td>7.0</td>\n",
       "    </tr>\n",
       "    <tr>\n",
       "      <th>2</th>\n",
       "      <td>87</td>\n",
       "      <td>Rainstorm 2013 Pinot Gris (Willamette Valley)</td>\n",
       "      <td>Paul Gregutt</td>\n",
       "      <td>14.0</td>\n",
       "      <td>None</td>\n",
       "      <td>Pinot Gris</td>\n",
       "      <td>US</td>\n",
       "      <td>Rainstorm</td>\n",
       "      <td>North America</td>\n",
       "      <td>2013</td>\n",
       "      <td>5.0</td>\n",
       "    </tr>\n",
       "    <tr>\n",
       "      <th>3</th>\n",
       "      <td>87</td>\n",
       "      <td>St. Julian 2013 Reserve Late Harvest Riesling ...</td>\n",
       "      <td>Alexander Peartree</td>\n",
       "      <td>13.0</td>\n",
       "      <td>Reserve Late Harvest</td>\n",
       "      <td>Riesling</td>\n",
       "      <td>US</td>\n",
       "      <td>St. Julian</td>\n",
       "      <td>North America</td>\n",
       "      <td>2013</td>\n",
       "      <td>5.0</td>\n",
       "    </tr>\n",
       "    <tr>\n",
       "      <th>4</th>\n",
       "      <td>87</td>\n",
       "      <td>Sweet Cheeks 2012 Vintner's Reserve Wild Child...</td>\n",
       "      <td>Paul Gregutt</td>\n",
       "      <td>65.0</td>\n",
       "      <td>Vintner's Reserve Wild Child Block</td>\n",
       "      <td>Pinot Noir</td>\n",
       "      <td>US</td>\n",
       "      <td>Sweet Cheeks</td>\n",
       "      <td>North America</td>\n",
       "      <td>2012</td>\n",
       "      <td>6.0</td>\n",
       "    </tr>\n",
       "  </tbody>\n",
       "</table>\n",
       "</div>"
      ],
      "text/plain": [
       "   points                                              title  \\\n",
       "0      87                  Nicosia 2013 Vulkà Bianco  (Etna)   \n",
       "1      87      Quinta dos Avidagos 2011 Avidagos Red (Douro)   \n",
       "2      87      Rainstorm 2013 Pinot Gris (Willamette Valley)   \n",
       "3      87  St. Julian 2013 Reserve Late Harvest Riesling ...   \n",
       "4      87  Sweet Cheeks 2012 Vintner's Reserve Wild Child...   \n",
       "\n",
       "          taster_name  price                         designation  \\\n",
       "0       Kerin O’Keefe    NaN                        Vulkà Bianco   \n",
       "1          Roger Voss   15.0                            Avidagos   \n",
       "2        Paul Gregutt   14.0                                None   \n",
       "3  Alexander Peartree   13.0                Reserve Late Harvest   \n",
       "4        Paul Gregutt   65.0  Vintner's Reserve Wild Child Block   \n",
       "\n",
       "          variety   country               winery      continent  year  age  \n",
       "0     White Blend     Italy              Nicosia         Europe  2013  5.0  \n",
       "1  Portuguese Red  Portugal  Quinta dos Avidagos         Europe  2011  7.0  \n",
       "2      Pinot Gris        US            Rainstorm  North America  2013  5.0  \n",
       "3        Riesling        US           St. Julian  North America  2013  5.0  \n",
       "4      Pinot Noir        US         Sweet Cheeks  North America  2012  6.0  "
      ]
     },
     "execution_count": 15,
     "metadata": {},
     "output_type": "execute_result"
    }
   ],
   "source": [
    "df_wine.head()"
   ]
  },
  {
   "cell_type": "markdown",
   "metadata": {},
   "source": [
    "# Data Analysis & Results"
   ]
  },
  {
   "cell_type": "markdown",
   "metadata": {},
   "source": [
    "##### 3.1 Get the average of wine ratings"
   ]
  },
  {
   "cell_type": "code",
   "execution_count": 16,
   "metadata": {},
   "outputs": [
    {
     "data": {
      "text/plain": [
       "88.44713820775404"
      ]
     },
     "execution_count": 16,
     "metadata": {},
     "output_type": "execute_result"
    }
   ],
   "source": [
    "df_wine['points'].mean()"
   ]
  },
  {
   "cell_type": "markdown",
   "metadata": {},
   "source": [
    "##### 3.2 Get the number of wine tasters"
   ]
  },
  {
   "cell_type": "code",
   "execution_count": 17,
   "metadata": {},
   "outputs": [
    {
     "data": {
      "text/plain": [
       "19"
      ]
     },
     "execution_count": 17,
     "metadata": {},
     "output_type": "execute_result"
    }
   ],
   "source": [
    "df_wine['taster_name'].value_counts().count()"
   ]
  },
  {
   "cell_type": "markdown",
   "metadata": {},
   "source": [
    "##### 3.3 Get the number of the wine title"
   ]
  },
  {
   "cell_type": "code",
   "execution_count": 18,
   "metadata": {},
   "outputs": [
    {
     "data": {
      "text/plain": [
       "118840"
      ]
     },
     "execution_count": 18,
     "metadata": {},
     "output_type": "execute_result"
    }
   ],
   "source": [
    "df_wine['title'].value_counts().count()"
   ]
  },
  {
   "cell_type": "markdown",
   "metadata": {},
   "source": [
    "##### 3.4 Get the number of the winery"
   ]
  },
  {
   "cell_type": "code",
   "execution_count": 19,
   "metadata": {},
   "outputs": [
    {
     "data": {
      "text/plain": [
       "16757"
      ]
     },
     "execution_count": 19,
     "metadata": {},
     "output_type": "execute_result"
    }
   ],
   "source": [
    "df_wine['winery'].value_counts().count()"
   ]
  },
  {
   "cell_type": "markdown",
   "metadata": {},
   "source": [
    "##### 3.5 Get the number of the country"
   ]
  },
  {
   "cell_type": "code",
   "execution_count": 20,
   "metadata": {},
   "outputs": [
    {
     "data": {
      "text/plain": [
       "43"
      ]
     },
     "execution_count": 20,
     "metadata": {},
     "output_type": "execute_result"
    }
   ],
   "source": [
    "df_wine['country'].value_counts().count()"
   ]
  },
  {
   "cell_type": "markdown",
   "metadata": {},
   "source": [
    "##### 3.6 Get the average rating that each wine taster gives to get a sense of their overall standard"
   ]
  },
  {
   "cell_type": "code",
   "execution_count": 21,
   "metadata": {},
   "outputs": [],
   "source": [
    "taster = []\n",
    "taster = df_wine['taster_name'].value_counts().keys().to_list()\n",
    "average_taster = []\n",
    "for a in taster:\n",
    "    average_taster.append(df_wine[df_wine['taster_name'] == a].points.mean())\n",
    "df_taster = pd.DataFrame({'taster_name':taster, 'points':average_taster})\n",
    "df_taster = df_taster.sort_values(by=['points'], ascending=False).reset_index(drop=True)\n",
    "df_taster = df_taster.set_index('taster_name')"
   ]
  },
  {
   "cell_type": "code",
   "execution_count": 22,
   "metadata": {},
   "outputs": [
    {
     "data": {
      "text/html": [
       "<div>\n",
       "<style scoped>\n",
       "    .dataframe tbody tr th:only-of-type {\n",
       "        vertical-align: middle;\n",
       "    }\n",
       "\n",
       "    .dataframe tbody tr th {\n",
       "        vertical-align: top;\n",
       "    }\n",
       "\n",
       "    .dataframe thead th {\n",
       "        text-align: right;\n",
       "    }\n",
       "</style>\n",
       "<table border=\"1\" class=\"dataframe\">\n",
       "  <thead>\n",
       "    <tr style=\"text-align: right;\">\n",
       "      <th></th>\n",
       "      <th>points</th>\n",
       "    </tr>\n",
       "    <tr>\n",
       "      <th>taster_name</th>\n",
       "      <th></th>\n",
       "    </tr>\n",
       "  </thead>\n",
       "  <tbody>\n",
       "    <tr>\n",
       "      <th>Anne Krebiehl MW</th>\n",
       "      <td>90.562551</td>\n",
       "    </tr>\n",
       "    <tr>\n",
       "      <th>Matt Kettmann</th>\n",
       "      <td>90.008686</td>\n",
       "    </tr>\n",
       "    <tr>\n",
       "      <th>Virginie Boone</th>\n",
       "      <td>89.213379</td>\n",
       "    </tr>\n",
       "    <tr>\n",
       "      <th>Mike DeSimone</th>\n",
       "      <td>89.101167</td>\n",
       "    </tr>\n",
       "    <tr>\n",
       "      <th>Paul Gregutt</th>\n",
       "      <td>89.082564</td>\n",
       "    </tr>\n",
       "    <tr>\n",
       "      <th>Kerin O’Keefe</th>\n",
       "      <td>88.867947</td>\n",
       "    </tr>\n",
       "    <tr>\n",
       "      <th>Sean P. Sullivan</th>\n",
       "      <td>88.755739</td>\n",
       "    </tr>\n",
       "    <tr>\n",
       "      <th>Roger Voss</th>\n",
       "      <td>88.708003</td>\n",
       "    </tr>\n",
       "    <tr>\n",
       "      <th>Jim Gordon</th>\n",
       "      <td>88.626287</td>\n",
       "    </tr>\n",
       "    <tr>\n",
       "      <th>Joe Czerwinski</th>\n",
       "      <td>88.536235</td>\n",
       "    </tr>\n",
       "    <tr>\n",
       "      <th>Anna Lee C. Iijima</th>\n",
       "      <td>88.415629</td>\n",
       "    </tr>\n",
       "    <tr>\n",
       "      <th>Jeff Jenssen</th>\n",
       "      <td>88.319756</td>\n",
       "    </tr>\n",
       "    <tr>\n",
       "      <th>Christina Pickard</th>\n",
       "      <td>87.833333</td>\n",
       "    </tr>\n",
       "    <tr>\n",
       "      <th>Lauren Buzzeo</th>\n",
       "      <td>87.739510</td>\n",
       "    </tr>\n",
       "    <tr>\n",
       "      <th>Michael Schachner</th>\n",
       "      <td>86.907493</td>\n",
       "    </tr>\n",
       "    <tr>\n",
       "      <th>Fiona Adams</th>\n",
       "      <td>86.888889</td>\n",
       "    </tr>\n",
       "    <tr>\n",
       "      <th>Susan Kostrzewa</th>\n",
       "      <td>86.609217</td>\n",
       "    </tr>\n",
       "    <tr>\n",
       "      <th>Carrie Dykes</th>\n",
       "      <td>86.395683</td>\n",
       "    </tr>\n",
       "    <tr>\n",
       "      <th>Alexander Peartree</th>\n",
       "      <td>85.855422</td>\n",
       "    </tr>\n",
       "  </tbody>\n",
       "</table>\n",
       "</div>"
      ],
      "text/plain": [
       "                       points\n",
       "taster_name                  \n",
       "Anne Krebiehl MW    90.562551\n",
       "Matt Kettmann       90.008686\n",
       "Virginie Boone      89.213379\n",
       "Mike DeSimone       89.101167\n",
       "Paul Gregutt        89.082564\n",
       "Kerin O’Keefe       88.867947\n",
       "Sean P. Sullivan    88.755739\n",
       "Roger Voss          88.708003\n",
       "Jim Gordon          88.626287\n",
       "Joe Czerwinski      88.536235\n",
       "Anna Lee C. Iijima  88.415629\n",
       "Jeff Jenssen        88.319756\n",
       "Christina Pickard   87.833333\n",
       "Lauren Buzzeo       87.739510\n",
       "Michael Schachner   86.907493\n",
       "Fiona Adams         86.888889\n",
       "Susan Kostrzewa     86.609217\n",
       "Carrie Dykes        86.395683\n",
       "Alexander Peartree  85.855422"
      ]
     },
     "execution_count": 22,
     "metadata": {},
     "output_type": "execute_result"
    }
   ],
   "source": [
    "df_taster"
   ]
  },
  {
   "cell_type": "markdown",
   "metadata": {},
   "source": [
    "##### 3.7 Get the continents that produce the best wines based on the wine tasters' ratings"
   ]
  },
  {
   "cell_type": "code",
   "execution_count": 23,
   "metadata": {},
   "outputs": [],
   "source": [
    "continent = []\n",
    "continent = df_wine['continent'].value_counts().keys().to_list()\n",
    "average_continent = []\n",
    "for a in continent:\n",
    "    average_continent.append(df_wine[df_wine['continent'] == a].points.mean())\n",
    "df_continent = pd.DataFrame({'continent':continent, 'points':average_continent})\n",
    "df_continent = df_continent.sort_values(by=['points'], ascending=False).reset_index(drop=True)\n",
    "df_continent = df_continent.set_index('continent')"
   ]
  },
  {
   "cell_type": "code",
   "execution_count": 24,
   "metadata": {},
   "outputs": [
    {
     "data": {
      "text/html": [
       "<div>\n",
       "<style scoped>\n",
       "    .dataframe tbody tr th:only-of-type {\n",
       "        vertical-align: middle;\n",
       "    }\n",
       "\n",
       "    .dataframe tbody tr th {\n",
       "        vertical-align: top;\n",
       "    }\n",
       "\n",
       "    .dataframe thead th {\n",
       "        text-align: right;\n",
       "    }\n",
       "</style>\n",
       "<table border=\"1\" class=\"dataframe\">\n",
       "  <thead>\n",
       "    <tr style=\"text-align: right;\">\n",
       "      <th></th>\n",
       "      <th>points</th>\n",
       "    </tr>\n",
       "    <tr>\n",
       "      <th>continent</th>\n",
       "      <th></th>\n",
       "    </tr>\n",
       "  </thead>\n",
       "  <tbody>\n",
       "    <tr>\n",
       "      <th>Europe</th>\n",
       "      <td>88.608982</td>\n",
       "    </tr>\n",
       "    <tr>\n",
       "      <th>North America</th>\n",
       "      <td>88.563276</td>\n",
       "    </tr>\n",
       "    <tr>\n",
       "      <th>Asia</th>\n",
       "      <td>88.502913</td>\n",
       "    </tr>\n",
       "    <tr>\n",
       "      <th>Oceania</th>\n",
       "      <td>88.475454</td>\n",
       "    </tr>\n",
       "    <tr>\n",
       "      <th>Africa</th>\n",
       "      <td>88.063636</td>\n",
       "    </tr>\n",
       "    <tr>\n",
       "      <th>South America</th>\n",
       "      <td>86.577583</td>\n",
       "    </tr>\n",
       "  </tbody>\n",
       "</table>\n",
       "</div>"
      ],
      "text/plain": [
       "                  points\n",
       "continent               \n",
       "Europe         88.608982\n",
       "North America  88.563276\n",
       "Asia           88.502913\n",
       "Oceania        88.475454\n",
       "Africa         88.063636\n",
       "South America  86.577583"
      ]
     },
     "execution_count": 24,
     "metadata": {},
     "output_type": "execute_result"
    }
   ],
   "source": [
    "df_continent"
   ]
  },
  {
   "cell_type": "markdown",
   "metadata": {},
   "source": [
    "##### 3.8 Get the countries that produce the best wines based on the wine tasters' ratings"
   ]
  },
  {
   "cell_type": "code",
   "execution_count": 25,
   "metadata": {},
   "outputs": [],
   "source": [
    "country = []\n",
    "country = df_wine['country'].value_counts().keys().to_list()\n",
    "average_country = []\n",
    "for a in country:\n",
    "    average_country.append(df_wine[df_wine['country'] == a].points.mean())\n",
    "df_country = pd.DataFrame({'country':country, 'points':average_country})\n",
    "df_country = df_country.sort_values(by=['points'], ascending=False).reset_index(drop=True)\n",
    "df_country = df_country.set_index('country')"
   ]
  },
  {
   "cell_type": "code",
   "execution_count": 26,
   "metadata": {},
   "outputs": [
    {
     "data": {
      "text/html": [
       "<div>\n",
       "<style scoped>\n",
       "    .dataframe tbody tr th:only-of-type {\n",
       "        vertical-align: middle;\n",
       "    }\n",
       "\n",
       "    .dataframe tbody tr th {\n",
       "        vertical-align: top;\n",
       "    }\n",
       "\n",
       "    .dataframe thead th {\n",
       "        text-align: right;\n",
       "    }\n",
       "</style>\n",
       "<table border=\"1\" class=\"dataframe\">\n",
       "  <thead>\n",
       "    <tr style=\"text-align: right;\">\n",
       "      <th></th>\n",
       "      <th>points</th>\n",
       "    </tr>\n",
       "    <tr>\n",
       "      <th>country</th>\n",
       "      <th></th>\n",
       "    </tr>\n",
       "  </thead>\n",
       "  <tbody>\n",
       "    <tr>\n",
       "      <th>England</th>\n",
       "      <td>91.581081</td>\n",
       "    </tr>\n",
       "    <tr>\n",
       "      <th>India</th>\n",
       "      <td>90.222222</td>\n",
       "    </tr>\n",
       "    <tr>\n",
       "      <th>Austria</th>\n",
       "      <td>90.101345</td>\n",
       "    </tr>\n",
       "    <tr>\n",
       "      <th>Germany</th>\n",
       "      <td>89.851732</td>\n",
       "    </tr>\n",
       "    <tr>\n",
       "      <th>Canada</th>\n",
       "      <td>89.369650</td>\n",
       "    </tr>\n",
       "    <tr>\n",
       "      <th>Hungary</th>\n",
       "      <td>89.191781</td>\n",
       "    </tr>\n",
       "    <tr>\n",
       "      <th>China</th>\n",
       "      <td>89.000000</td>\n",
       "    </tr>\n",
       "    <tr>\n",
       "      <th>France</th>\n",
       "      <td>88.845109</td>\n",
       "    </tr>\n",
       "    <tr>\n",
       "      <th>Luxembourg</th>\n",
       "      <td>88.666667</td>\n",
       "    </tr>\n",
       "    <tr>\n",
       "      <th>Australia</th>\n",
       "      <td>88.580507</td>\n",
       "    </tr>\n",
       "    <tr>\n",
       "      <th>Switzerland</th>\n",
       "      <td>88.571429</td>\n",
       "    </tr>\n",
       "    <tr>\n",
       "      <th>Morocco</th>\n",
       "      <td>88.571429</td>\n",
       "    </tr>\n",
       "    <tr>\n",
       "      <th>US</th>\n",
       "      <td>88.563720</td>\n",
       "    </tr>\n",
       "    <tr>\n",
       "      <th>Italy</th>\n",
       "      <td>88.562231</td>\n",
       "    </tr>\n",
       "    <tr>\n",
       "      <th>Israel</th>\n",
       "      <td>88.471287</td>\n",
       "    </tr>\n",
       "    <tr>\n",
       "      <th>New Zealand</th>\n",
       "      <td>88.303030</td>\n",
       "    </tr>\n",
       "    <tr>\n",
       "      <th>Portugal</th>\n",
       "      <td>88.250220</td>\n",
       "    </tr>\n",
       "    <tr>\n",
       "      <th>Turkey</th>\n",
       "      <td>88.088889</td>\n",
       "    </tr>\n",
       "    <tr>\n",
       "      <th>Slovenia</th>\n",
       "      <td>88.068966</td>\n",
       "    </tr>\n",
       "    <tr>\n",
       "      <th>South Africa</th>\n",
       "      <td>88.056388</td>\n",
       "    </tr>\n",
       "    <tr>\n",
       "      <th>Bulgaria</th>\n",
       "      <td>87.936170</td>\n",
       "    </tr>\n",
       "    <tr>\n",
       "      <th>Georgia</th>\n",
       "      <td>87.686047</td>\n",
       "    </tr>\n",
       "    <tr>\n",
       "      <th>Lebanon</th>\n",
       "      <td>87.685714</td>\n",
       "    </tr>\n",
       "    <tr>\n",
       "      <th>Armenia</th>\n",
       "      <td>87.500000</td>\n",
       "    </tr>\n",
       "    <tr>\n",
       "      <th>Serbia</th>\n",
       "      <td>87.500000</td>\n",
       "    </tr>\n",
       "    <tr>\n",
       "      <th>Spain</th>\n",
       "      <td>87.288337</td>\n",
       "    </tr>\n",
       "    <tr>\n",
       "      <th>Greece</th>\n",
       "      <td>87.283262</td>\n",
       "    </tr>\n",
       "    <tr>\n",
       "      <th>Czech Republic</th>\n",
       "      <td>87.250000</td>\n",
       "    </tr>\n",
       "    <tr>\n",
       "      <th>Croatia</th>\n",
       "      <td>87.219178</td>\n",
       "    </tr>\n",
       "    <tr>\n",
       "      <th>Moldova</th>\n",
       "      <td>87.203390</td>\n",
       "    </tr>\n",
       "    <tr>\n",
       "      <th>Cyprus</th>\n",
       "      <td>87.181818</td>\n",
       "    </tr>\n",
       "    <tr>\n",
       "      <th>Slovakia</th>\n",
       "      <td>87.000000</td>\n",
       "    </tr>\n",
       "    <tr>\n",
       "      <th>Macedonia</th>\n",
       "      <td>86.833333</td>\n",
       "    </tr>\n",
       "    <tr>\n",
       "      <th>Uruguay</th>\n",
       "      <td>86.752294</td>\n",
       "    </tr>\n",
       "    <tr>\n",
       "      <th>Argentina</th>\n",
       "      <td>86.710263</td>\n",
       "    </tr>\n",
       "    <tr>\n",
       "      <th>Bosnia and Herzegovina</th>\n",
       "      <td>86.500000</td>\n",
       "    </tr>\n",
       "    <tr>\n",
       "      <th>Chile</th>\n",
       "      <td>86.493515</td>\n",
       "    </tr>\n",
       "    <tr>\n",
       "      <th>Romania</th>\n",
       "      <td>86.400000</td>\n",
       "    </tr>\n",
       "    <tr>\n",
       "      <th>Mexico</th>\n",
       "      <td>85.257143</td>\n",
       "    </tr>\n",
       "    <tr>\n",
       "      <th>Brazil</th>\n",
       "      <td>84.673077</td>\n",
       "    </tr>\n",
       "    <tr>\n",
       "      <th>Ukraine</th>\n",
       "      <td>84.071429</td>\n",
       "    </tr>\n",
       "    <tr>\n",
       "      <th>Egypt</th>\n",
       "      <td>84.000000</td>\n",
       "    </tr>\n",
       "    <tr>\n",
       "      <th>Peru</th>\n",
       "      <td>83.562500</td>\n",
       "    </tr>\n",
       "  </tbody>\n",
       "</table>\n",
       "</div>"
      ],
      "text/plain": [
       "                           points\n",
       "country                          \n",
       "England                 91.581081\n",
       "India                   90.222222\n",
       "Austria                 90.101345\n",
       "Germany                 89.851732\n",
       "Canada                  89.369650\n",
       "Hungary                 89.191781\n",
       "China                   89.000000\n",
       "France                  88.845109\n",
       "Luxembourg              88.666667\n",
       "Australia               88.580507\n",
       "Switzerland             88.571429\n",
       "Morocco                 88.571429\n",
       "US                      88.563720\n",
       "Italy                   88.562231\n",
       "Israel                  88.471287\n",
       "New Zealand             88.303030\n",
       "Portugal                88.250220\n",
       "Turkey                  88.088889\n",
       "Slovenia                88.068966\n",
       "South Africa            88.056388\n",
       "Bulgaria                87.936170\n",
       "Georgia                 87.686047\n",
       "Lebanon                 87.685714\n",
       "Armenia                 87.500000\n",
       "Serbia                  87.500000\n",
       "Spain                   87.288337\n",
       "Greece                  87.283262\n",
       "Czech Republic          87.250000\n",
       "Croatia                 87.219178\n",
       "Moldova                 87.203390\n",
       "Cyprus                  87.181818\n",
       "Slovakia                87.000000\n",
       "Macedonia               86.833333\n",
       "Uruguay                 86.752294\n",
       "Argentina               86.710263\n",
       "Bosnia and Herzegovina  86.500000\n",
       "Chile                   86.493515\n",
       "Romania                 86.400000\n",
       "Mexico                  85.257143\n",
       "Brazil                  84.673077\n",
       "Ukraine                 84.071429\n",
       "Egypt                   84.000000\n",
       "Peru                    83.562500"
      ]
     },
     "execution_count": 26,
     "metadata": {},
     "output_type": "execute_result"
    }
   ],
   "source": [
    "df_country"
   ]
  },
  {
   "cell_type": "markdown",
   "metadata": {},
   "source": [
    "##### 3.9 Get the wineries that produce the best wines based on the wine tasters' ratings"
   ]
  },
  {
   "cell_type": "code",
   "execution_count": 27,
   "metadata": {},
   "outputs": [
    {
     "data": {
      "text/plain": [
       "array(['Nicosia', 'Quinta dos Avidagos', 'Rainstorm', ...,\n",
       "       'Mas de Pampelonne', 'Bodegas Eidosela', 'Penedo Borges'],\n",
       "      dtype=object)"
      ]
     },
     "execution_count": 27,
     "metadata": {},
     "output_type": "execute_result"
    }
   ],
   "source": [
    "winery = df_wine['winery'].unique()\n",
    "winery"
   ]
  },
  {
   "cell_type": "code",
   "execution_count": 28,
   "metadata": {},
   "outputs": [],
   "source": [
    "avg1 = []\n",
    "for i in winery:\n",
    "    avg1.append(df_wine[df_wine.winery == i]['points'].mean())"
   ]
  },
  {
   "cell_type": "code",
   "execution_count": 29,
   "metadata": {},
   "outputs": [
    {
     "data": {
      "text/html": [
       "<div>\n",
       "<style scoped>\n",
       "    .dataframe tbody tr th:only-of-type {\n",
       "        vertical-align: middle;\n",
       "    }\n",
       "\n",
       "    .dataframe tbody tr th {\n",
       "        vertical-align: top;\n",
       "    }\n",
       "\n",
       "    .dataframe thead th {\n",
       "        text-align: right;\n",
       "    }\n",
       "</style>\n",
       "<table border=\"1\" class=\"dataframe\">\n",
       "  <thead>\n",
       "    <tr style=\"text-align: right;\">\n",
       "      <th></th>\n",
       "      <th>Winery</th>\n",
       "      <th>Average Points</th>\n",
       "    </tr>\n",
       "  </thead>\n",
       "  <tbody>\n",
       "    <tr>\n",
       "      <th>11466</th>\n",
       "      <td>Araujo</td>\n",
       "      <td>98.0</td>\n",
       "    </tr>\n",
       "    <tr>\n",
       "      <th>16486</th>\n",
       "      <td>Gandona</td>\n",
       "      <td>97.0</td>\n",
       "    </tr>\n",
       "    <tr>\n",
       "      <th>16485</th>\n",
       "      <td>Ovid</td>\n",
       "      <td>97.0</td>\n",
       "    </tr>\n",
       "    <tr>\n",
       "      <th>15600</th>\n",
       "      <td>J.L. Chave</td>\n",
       "      <td>97.0</td>\n",
       "    </tr>\n",
       "    <tr>\n",
       "      <th>7914</th>\n",
       "      <td>Salon</td>\n",
       "      <td>96.8</td>\n",
       "    </tr>\n",
       "    <tr>\n",
       "      <th>...</th>\n",
       "      <td>...</td>\n",
       "      <td>...</td>\n",
       "    </tr>\n",
       "    <tr>\n",
       "      <th>16310</th>\n",
       "      <td>Gran Familia</td>\n",
       "      <td>80.0</td>\n",
       "    </tr>\n",
       "    <tr>\n",
       "      <th>7130</th>\n",
       "      <td>Villa Viña</td>\n",
       "      <td>80.0</td>\n",
       "    </tr>\n",
       "    <tr>\n",
       "      <th>16334</th>\n",
       "      <td>Capay Valley</td>\n",
       "      <td>80.0</td>\n",
       "    </tr>\n",
       "    <tr>\n",
       "      <th>14868</th>\n",
       "      <td>Moss Roxx</td>\n",
       "      <td>80.0</td>\n",
       "    </tr>\n",
       "    <tr>\n",
       "      <th>8075</th>\n",
       "      <td>California's Jewel</td>\n",
       "      <td>80.0</td>\n",
       "    </tr>\n",
       "  </tbody>\n",
       "</table>\n",
       "<p>16757 rows × 2 columns</p>\n",
       "</div>"
      ],
      "text/plain": [
       "                   Winery  Average Points\n",
       "11466              Araujo            98.0\n",
       "16486             Gandona            97.0\n",
       "16485                Ovid            97.0\n",
       "15600          J.L. Chave            97.0\n",
       "7914                Salon            96.8\n",
       "...                   ...             ...\n",
       "16310        Gran Familia            80.0\n",
       "7130           Villa Viña            80.0\n",
       "16334        Capay Valley            80.0\n",
       "14868           Moss Roxx            80.0\n",
       "8075   California's Jewel            80.0\n",
       "\n",
       "[16757 rows x 2 columns]"
      ]
     },
     "execution_count": 29,
     "metadata": {},
     "output_type": "execute_result"
    }
   ],
   "source": [
    "wavg_points = {'Winery': winery, 'Average Points': avg1} \n",
    "\n",
    "wavg_points = pd.DataFrame(wavg_points) \n",
    " \n",
    "wavg_points = wavg_points.sort_values(by=['Average Points'], ascending=False)\n",
    "\n",
    "wavg_points"
   ]
  },
  {
   "cell_type": "markdown",
   "metadata": {},
   "source": [
    "##### 3.10 Get the best type of grapes based on the wine tasters' ratings"
   ]
  },
  {
   "cell_type": "code",
   "execution_count": 30,
   "metadata": {},
   "outputs": [
    {
     "data": {
      "text/plain": [
       "array(['White Blend', 'Portuguese Red', 'Pinot Gris', 'Riesling',\n",
       "       'Pinot Noir', 'Tempranillo-Merlot', 'Frappato', 'Gewürztraminer',\n",
       "       'Cabernet Sauvignon', 'Nerello Mascalese', 'Chardonnay', 'Malbec',\n",
       "       'Tempranillo Blend', 'Meritage', 'Red Blend', 'Merlot',\n",
       "       \"Nero d'Avola\", 'Chenin Blanc', 'Gamay', 'Sauvignon Blanc',\n",
       "       'Viognier-Chardonnay', 'Primitivo', 'Catarratto', 'Inzolia',\n",
       "       'Petit Verdot', 'Monica', 'Bordeaux-style White Blend', 'Grillo',\n",
       "       'Sangiovese', 'Cabernet Franc', 'Champagne Blend',\n",
       "       'Bordeaux-style Red Blend', 'Aglianico', 'Petite Sirah',\n",
       "       'Touriga Nacional', 'Carmenère', 'Albariño', 'Petit Manseng',\n",
       "       'Rosé', 'Zinfandel', 'Vernaccia', 'Rosato', 'Grüner Veltliner',\n",
       "       'Viognier', 'Vermentino', 'Grenache Blanc', 'Syrah', 'Nebbiolo',\n",
       "       'Shiraz-Cabernet Sauvignon', 'Pinot Blanc', 'Alsace white blend',\n",
       "       'Barbera', 'Rhône-style Red Blend', 'Portuguese White', 'Graciano',\n",
       "       'Tannat-Cabernet', 'Sauvignon', 'Sangiovese Grosso', 'Torrontés',\n",
       "       'Prugnolo Gentile', 'G-S-M', 'Verdejo', 'Fumé Blanc', 'Furmint',\n",
       "       'Pinot Bianco', 'Bonarda', 'Shiraz', 'Montepulciano', 'Moscato',\n",
       "       'Grenache', 'Ugni Blanc-Colombard', 'Syrah-Viognier',\n",
       "       'Blaufränkisch', 'Friulano', 'Assyrtico', 'Carignan-Grenache',\n",
       "       'Sagrantino', 'Savagnin', 'Cabernet Sauvignon-Syrah', 'Prosecco',\n",
       "       'Vignoles', 'Sparkling Blend', 'Muscat', 'Muscadelle',\n",
       "       'Shiraz-Viognier', 'Garganega', 'Pinot Grigio', 'Tempranillo',\n",
       "       'Zierfandler', 'Cortese', 'Mencía', 'Zweigelt', 'Melon',\n",
       "       'Rhône-style White Blend', 'Vidal', 'Cannonau', 'Verdelho',\n",
       "       'Marsanne', 'Scheurebe', 'Kerner', 'Syrah-Grenache', 'Dolcetto',\n",
       "       'Vilana', 'Glera', 'Viura', 'Garnacha Tintorera', 'Pinot Nero',\n",
       "       'Roter Veltliner', 'Pinotage', 'Sémillon', 'Pinot Noir-Gamay',\n",
       "       'Antão Vaz', 'Cabernet Sauvignon-Carmenère', 'Verdejo-Viura',\n",
       "       'Verduzzo', 'Verdicchio', 'Silvaner', 'Colombard', 'Carricante',\n",
       "       'Sylvaner', 'Fiano', 'Früburgunder', 'Sousão', 'Roussanne',\n",
       "       'Avesso', 'Cinsault', 'Chinuri', 'Tinta Miúda',\n",
       "       'Muscat Blanc à Petits Grains', 'Portuguese Sparkling',\n",
       "       'Monastrell', 'Xarel-lo', 'Greco', 'Trebbiano',\n",
       "       'Corvina, Rondinella, Molinara', 'Port', 'Chenin Blanc-Chardonnay',\n",
       "       'Insolia', 'Merlot-Malbec', 'Ribolla Gialla',\n",
       "       'Cabernet Sauvignon-Merlot', 'Duras', 'Weissburgunder', 'Roditis',\n",
       "       'Traminer', 'Papaskarasi', 'Tannat-Syrah', 'Marsanne-Roussanne',\n",
       "       'Charbono', 'Merlot-Argaman', 'Prié Blanc', 'Sherry',\n",
       "       'Provence red blend', 'Tannat', 'Zibibbo', 'Falanghina',\n",
       "       'Garnacha', 'Negroamaro', 'Mourvèdre', 'Syrah-Cabernet',\n",
       "       'Müller-Thurgau', 'Pinot Meunier', 'Cabernet Sauvignon-Sangiovese',\n",
       "       'Austrian Red Blend', 'Teroldego', 'Pansa Blanca',\n",
       "       'Muskat Ottonel', 'Sauvignon Blanc-Semillon', 'Claret',\n",
       "       'Semillon-Sauvignon Blanc', 'Bical', 'Moscatel', 'Rosado',\n",
       "       'Viura-Chardonnay', 'Baga', 'Malvasia Bianca',\n",
       "       'Gelber Muskateller', 'Malbec-Merlot', 'Monastrell-Syrah',\n",
       "       'Malbec-Tannat', 'Malbec-Cabernet Franc', 'Turbiana', 'Refosco',\n",
       "       'Alvarinho', 'Manzoni', 'Aragonês', 'Agiorgitiko', 'Malagousia',\n",
       "       'Assyrtiko', 'Ruché', 'Welschriesling', 'Tinta de Toro',\n",
       "       'Cabernet Moravia', 'Rieslaner', 'Traminette', 'Chambourcin',\n",
       "       'Nero di Troia', 'Lambrusco di Sorbara', 'Cesanese',\n",
       "       'Feteasca Neagra', 'Lagrein', 'Tinta Fina', 'St. Laurent',\n",
       "       'Marsanne-Viognier', 'Cabernet Sauvignon-Shiraz',\n",
       "       'Syrah-Cabernet Sauvignon', 'Gewürztraminer-Riesling',\n",
       "       'Pugnitello', 'Cerceal', 'Touriga Nacional Blend',\n",
       "       'Austrian white blend', 'Tocai', 'Tinta Roriz',\n",
       "       'Chardonnay-Viognier', 'Fernão Pires',\n",
       "       'Cabernet Franc-Cabernet Sauvignon', 'Grenache-Syrah',\n",
       "       'Seyval Blanc', 'Muscat Canelli', 'Cabernet Merlot',\n",
       "       'Tempranillo-Cabernet Sauvignon', 'Arinto', 'Aragonez',\n",
       "       'Merlot-Cabernet Franc', 'Syrah-Petite Sirah', 'Cabernet Blend',\n",
       "       'Maturana', 'Pecorino', 'Rotgipfler', 'Kinali Yapincak',\n",
       "       'Cabernet Franc-Carmenère', 'Magliocco', 'Gamay Noir',\n",
       "       'Sauvignon Gris', 'Spätburgunder', 'Picpoul', 'Vidal Blanc',\n",
       "       'Albanello', 'White Port', 'Arneis', 'Malvasia', 'Plavac Mali',\n",
       "       'Lemberger', 'Saperavi', 'Altesse', 'Blanc du Bois',\n",
       "       'Provence white blend', 'Nosiola', 'Dornfelder',\n",
       "       'Roussanne-Viognier', 'Ojaleshi', 'Godello', 'Mondeuse',\n",
       "       'Perricone', 'Pedro Ximénez', 'Auxerrois', 'Syrah-Merlot',\n",
       "       'Albana', 'Muskat', 'Lambrusco', 'Cabernet Sauvignon-Malbec',\n",
       "       'Tinto Fino', 'Malbec-Cabernet Sauvignon', 'Moschofilero',\n",
       "       'Grechetto', 'Encruzado', 'Carignano', 'Cabernet Franc-Merlot',\n",
       "       'Torbato', 'Syrah-Petit Verdot', 'Garnacha Blanca', 'Pallagrello',\n",
       "       'Morava', 'Syrah-Mourvèdre', 'Aleatico', 'Carcajolu', 'Kisi',\n",
       "       'Shiraz-Grenache', 'Palomino', 'Grenache-Carignan', 'Nascetta',\n",
       "       'Siria', 'Malbec-Syrah', 'Asprinio', 'Feteascǎ Regalǎ',\n",
       "       'Lambrusco Grasparossa', 'Marselan', 'Tocai Friulano', 'Schiava',\n",
       "       'Alfrocheiro', 'Chardonnay-Semillon', 'Corvina', 'Norton',\n",
       "       'Alicante Bouschet', 'Tokaji', 'Moscadello',\n",
       "       'Cabernet Sauvignon-Tempranillo', 'Carignan', 'Loureiro-Arinto',\n",
       "       'Cabernet-Syrah', 'Sauvignon Blanc-Chardonnay', 'Symphony',\n",
       "       'Edelzwicker', 'Madeira Blend', 'Black Muscat', 'Grenache Noir',\n",
       "       'Durella', 'Xinomavro', 'Tinto del Pais',\n",
       "       'Merlot-Cabernet Sauvignon', 'Cercial', 'Johannisberg Riesling',\n",
       "       'Petite Verdot', 'Passerina', 'Valdiguié',\n",
       "       'Colombard-Sauvignon Blanc', 'Kangoun', 'Loureiro', 'Posip',\n",
       "       'Uva di Troia', 'Gros and Petit Manseng', 'Jacquère',\n",
       "       'Kalecik Karasi', 'Karasakiz', 'Mourvèdre-Syrah', 'Negrette',\n",
       "       'Zierfandler-Rotgipfler', 'Clairette', 'Raboso', 'País', 'Mauzac',\n",
       "       'Pinot Auxerrois', 'Chenin Blanc-Sauvignon Blanc', 'Diamond',\n",
       "       'Marzemino', 'Tinta Barroca', 'Chardonnay-Sauvignon Blanc',\n",
       "       'Castelão', 'Trebbiano Spoletino', 'Teran', 'Trepat', 'Freisa',\n",
       "       'Neuburger', 'Sämling', 'Chasselas', 'Hárslevelü', 'Trincadeira',\n",
       "       'Merlot-Tannat', 'Rkatsiteli', 'Melnik', 'Siegerrebe',\n",
       "       'Trousseau Gris', 'Grenache Blend', 'Gros Manseng',\n",
       "       'Portuguese Rosé', 'Brachetto', 'Mantonico', 'Ekigaïna',\n",
       "       'Muskateller', 'Aligoté', 'Sangiovese Cabernet',\n",
       "       'Touriga Nacional-Cabernet Sauvignon', 'Muscat Blanc', 'Argaman',\n",
       "       'Viognier-Roussanne', 'Pallagrello Bianco', 'Bobal',\n",
       "       'Malvasia Istriana', 'Cabernet Sauvignon-Cabernet Franc',\n",
       "       'Baco Noir', 'Veltliner', 'Tempranillo-Tannat', 'Morillon',\n",
       "       'Touriga Franca', 'Picolit', 'Barbera-Nebbiolo', 'Prieto Picudo',\n",
       "       'Gaglioppo', 'Tokay', 'Sacy', 'Piedirosso', 'Piquepoul Blanc',\n",
       "       'Mansois', 'Chardonnay-Sauvignon', 'Tempranillo-Garnacha',\n",
       "       'Carmenère-Cabernet Sauvignon', 'Chenin Blanc-Viognier',\n",
       "       'Susumaniello', 'Vitovska', 'Orange Muscat', 'Grauburgunder',\n",
       "       'Carignane', 'Moscatel Roxo', 'Tannat-Merlot', 'Nerello Cappuccio',\n",
       "       'Counoise', 'Macabeo', 'Mazuelo', 'Sauvignon-Sémillon',\n",
       "       'Tinta del Pais', 'Vranec', 'Mavrud', \"Cesanese d'Affile\",\n",
       "       'Moscato Giallo', 'Debit', 'Verdil', 'Cabernet',\n",
       "       'Verduzzo Friulano ', 'Treixadura', \"Loin de l'Oeil\",\n",
       "       'Coda di Volpe', 'Grenache-Mourvèdre', 'Forcallà', 'Viura-Verdejo',\n",
       "       'Bombino Bianco', 'Pinot-Chardonnay', 'Syrah-Tempranillo',\n",
       "       'Cabernet Sauvignon-Barbera', 'Merlot-Cabernet',\n",
       "       \"Muscat d'Alexandrie\", 'Jaen', 'Tinta del Toro', 'Timorasso',\n",
       "       'Pigato', 'Sangiovese-Cabernet Sauvignon', 'Shiraz-Cabernet',\n",
       "       'Viognier-Gewürztraminer', 'Prunelard',\n",
       "       'Sauvignon Blanc-Chenin Blanc', 'Gros Plant',\n",
       "       'Malbec-Petit Verdot', 'Colombard-Ugni Blanc', 'Grignolino',\n",
       "       'Garnacha-Syrah', 'Rufete', 'Tempranillo-Shiraz', 'Mtsvane',\n",
       "       'Chardonnay-Pinot Gris', 'Marawi', 'Chardonnay-Pinot Blanc',\n",
       "       'Mataro', 'Tinta Cao', 'Blauer Portugieser', 'Ugni Blanc',\n",
       "       'Groppello', 'Semillon-Chardonnay', 'Irsai Oliver', 'Alvarelhão',\n",
       "       'Poulsard', 'Grenache-Shiraz', 'Baga-Touriga Nacional', 'Carineña',\n",
       "       'Pignoletto', 'Muscatel', 'Mavrodaphne', 'Ciliegiolo',\n",
       "       'Viognier-Grenache Blanc', 'Greco Bianco',\n",
       "       'Cabernet Sauvignon-Merlot-Shiraz', 'Sciaccerellu', 'Zelen',\n",
       "       'Alicante', 'Emir', 'Rosenmuskateller', 'Tsolikouri', 'Narince',\n",
       "       'Malbec-Cabernet', 'Touriga', 'Grecanico', 'Carmenère-Syrah',\n",
       "       'Madeleine Angevine', 'Mavroudi', 'Pinot Blanc-Pinot Noir',\n",
       "       'Muscat Hamburg', 'Tempranillo Blanco', 'Casavecchia',\n",
       "       'Pinot Gris-Gewürztraminer', 'White Riesling', 'Tinto Velasco',\n",
       "       'Hondarrabi Zuri', 'Nuragus', 'Xynisteri', 'Kadarka',\n",
       "       'Sauvignon Musqué', 'Roussanne-Marsanne', 'Incrocio Manzoni',\n",
       "       'Terrantez', 'Bual', 'Okuzgozu', 'Rivaner', 'Doña Blanca',\n",
       "       'Graševina', 'Lambrusco Salamino', 'Sangiovese-Syrah',\n",
       "       'Tannat-Cabernet Franc', 'Thrapsathiri', 'Fer Servadou', 'Mission',\n",
       "       'Kekfrankos', 'Cococciola', 'Blauburgunder', 'Marquette',\n",
       "       'Romorantin', 'Verdejo-Sauvignon Blanc', 'Braucol',\n",
       "       'Malvasia-Viura', 'Savatiano', 'Cabernet Franc-Malbec',\n",
       "       'Pallagrello Nero', 'Rebula', 'Vespolina', 'Shiraz-Malbec', 'Rebo',\n",
       "       'Macabeo-Chardonnay', 'Tempranillo-Malbec', 'Tamjanika',\n",
       "       'Trousseau', 'Bacchus', 'Syrah-Malbec', 'Syrah-Cabernet Franc',\n",
       "       'Macabeo-Moscatel', 'Cariñena-Garnacha', 'Plyto',\n",
       "       'Códega do Larinho', 'Sideritis', 'Çalkarası', 'Azal',\n",
       "       'Moscatel Graúdo', 'Viosinho', 'Moschofilero-Chardonnay',\n",
       "       'Paralleda', 'Rara Neagra', 'Malvasia di Candia', 'Maria Gomes',\n",
       "       'Molinara', 'Malvar', 'Airen', 'Erbaluce', 'Muscat of Alexandria',\n",
       "       'Verdosilla', 'Abouriou', 'Pinot Noir-Syrah', 'Nielluciu',\n",
       "       'Malbec-Bonarda', 'Vespaiolo', 'Malbec-Carménère', 'Biancolella',\n",
       "       'Sauvignon Blanc-Verdejo', 'Aidani', 'Garnacha-Monastrell',\n",
       "       'Vinhão', 'Souzao', 'Roter Traminer', 'Moscatel de Alejandría',\n",
       "       'Rolle', 'Tinta Francisca', 'Malvasia Nera', 'Orangetraube',\n",
       "       'Riesling-Chardonnay', 'Žilavka', 'Portuguiser', 'Listán Negro',\n",
       "       'Pinotage-Merlot', 'Muscadine', 'Maria Gomes-Bical', 'Grolleau',\n",
       "       'Zlahtina', 'Syrah-Grenache-Viognier', 'Jacquez', 'Gouveio',\n",
       "       'Canaiolo', 'Carignan-Syrah', 'Bombino Nero',\n",
       "       'Chardonnay-Riesling', 'Malagouzia-Chardonnay', 'Mavrotragano',\n",
       "       'Bovale', 'Frankovka', 'Shiraz-Roussanne', 'Cabernet-Shiraz',\n",
       "       'Syrah-Carignan', 'Elbling', 'Gragnano', 'Garnacha Blend',\n",
       "       'Pinot Blanc-Chardonnay', 'Schwartzriesling', 'Petit Meslier',\n",
       "       'Bastardo', 'Vidadillo', 'Misket', 'Chardonnay Weissburgunder',\n",
       "       'Other', 'Robola', 'Merlot-Shiraz', 'Malagouzia', 'Folle Blanche',\n",
       "       'Malbec Blend', 'Merlot-Syrah', 'Tamianka', 'Cabernet Pfeffer',\n",
       "       'Morio Muskat', 'Rabigato', 'Babić', 'Roviello', 'Yapincak',\n",
       "       'Sauvignonasse', 'Viognier-Marsanne', 'Mandilaria', 'Meseguera',\n",
       "       'Alvarinho-Chardonnay', 'Saperavi-Merlot', 'Pinot Blanc-Viognier',\n",
       "       'Teroldego Rotaliano', 'Biancu Gentile', 'Garnacha-Tempranillo',\n",
       "       'Xinisteri', 'Sauvignon Blanc-Sauvignon Gris',\n",
       "       'Trebbiano di Lugana', 'Albarossa', 'Ryzlink Rýnský', 'Verdeca',\n",
       "       'Cabernet Sauvignon Grenache', 'Tămâioasă Românească',\n",
       "       'Black Monukka', 'Merlot-Grenache', 'Vranac', 'Tempranillo-Syrah',\n",
       "       'Chardonel', 'Silvaner-Traminer', 'Uvalino',\n",
       "       'Merseguera-Sauvignon Blanc', 'Cabernet-Malbec', 'Boğazkere',\n",
       "       'Gelber Traminer', 'Vermentino Nero', 'Cayuga', 'Tinta Amarela',\n",
       "       'Tinta Negra Mole', 'Moscato Rosa', 'Chelois',\n",
       "       'Sauvignon Blanc-Assyrtiko', None, 'Muscadel',\n",
       "       'Shiraz-Tempranillo', 'Roussanne-Grenache Blanc', 'Biancale',\n",
       "       'Ansonica', 'Syrah-Bonarda', 'Durif', 'Franconia',\n",
       "       'Malbec-Tempranillo', 'Nasco', 'Monastrell-Petit Verdot', 'Sirica',\n",
       "       'Vital', 'Espadeiro', 'Apple', 'Pinot Grigio-Sauvignon Blanc',\n",
       "       'Blatina', 'Karalahna', 'Feteasca', 'Sercial', 'Valvin Muscat',\n",
       "       'Malvasia Fina', 'Roditis-Moschofilero', 'St. Vincent',\n",
       "       'Chancellor', 'Premsal', 'Jampal', 'Tokay Pinot Gris', 'Colorino',\n",
       "       'Picapoll', 'Blauburger', 'Tinta Madeira', 'Centesimino',\n",
       "       'Grenache Gris', 'Trajadura', 'Merlot-Petite Verdot', 'Ramisco',\n",
       "       'Catalanesca', 'Garnacha-Cabernet', 'Garnacha-Cariñena', 'Gamza',\n",
       "       'Cabernet Franc-Lemberger', 'Chardonnay-Albariño',\n",
       "       'Shiraz-Mourvèdre', 'Mavrokalavryta', 'Favorita', 'Babosa Negro',\n",
       "       'Tintilia ', 'Dafni', 'Petit Courbu', 'Kotsifali', 'Parraleta',\n",
       "       'Moscato di Noto', 'Roscetto', 'Torontel', 'Otskhanuri Sapere',\n",
       "       'Viognier-Valdiguié', 'Trollinger', 'Tsapournakos', 'Francisa',\n",
       "       'Kuntra', 'Pignolo', 'Caprettone', 'Ondenc', 'Athiri',\n",
       "       'Bobal-Cabernet Sauvignon'], dtype=object)"
      ]
     },
     "execution_count": 30,
     "metadata": {},
     "output_type": "execute_result"
    }
   ],
   "source": [
    "grapes = df_wine['variety'].unique()\n",
    "grapes"
   ]
  },
  {
   "cell_type": "code",
   "execution_count": 31,
   "metadata": {},
   "outputs": [],
   "source": [
    "avg = []\n",
    "for i in grapes:\n",
    "    avg.append(df_wine[df_wine.variety == i]['points'].mean())"
   ]
  },
  {
   "cell_type": "markdown",
   "metadata": {},
   "source": [
    "##### 3.11 Get the best wines overall based on the wine tasters' ratings"
   ]
  },
  {
   "cell_type": "code",
   "execution_count": 32,
   "metadata": {},
   "outputs": [
    {
     "data": {
      "text/plain": [
       "array(['Nicosia 2013 Vulkà Bianco  (Etna)',\n",
       "       'Quinta dos Avidagos 2011 Avidagos Red (Douro)',\n",
       "       'Rainstorm 2013 Pinot Gris (Willamette Valley)', ...,\n",
       "       'Domaine Gresser 2013 Kritt Gewurztraminer (Alsace)',\n",
       "       'Domaine Marcel Deiss 2012 Pinot Gris (Alsace)',\n",
       "       'Domaine Schoffit 2012 Lieu-dit Harth Cuvée Caroline Gewurztraminer (Alsace)'],\n",
       "      dtype=object)"
      ]
     },
     "execution_count": 32,
     "metadata": {},
     "output_type": "execute_result"
    }
   ],
   "source": [
    "wine = df_wine['title'].unique()\n",
    "wine"
   ]
  },
  {
   "cell_type": "code",
   "execution_count": null,
   "metadata": {},
   "outputs": [],
   "source": [
    "avg = []\n",
    "for i in wine:\n",
    "    avg.append(df_wine[df_wine.title == i]['points'].mean())"
   ]
  },
  {
   "cell_type": "code",
   "execution_count": null,
   "metadata": {},
   "outputs": [],
   "source": [
    "wine_avg_points = {'Wine':wine, 'Average Points': avg} \n",
    "\n",
    "wine_avg_points = pd.DataFrame(wine_avg_points) \n",
    " \n",
    "wine_avg_points = wine_avg_points.sort_values(by=['Average Points'], ascending=False)\n",
    "\n",
    "wine_avg_points[wine_avg_points['Average Points'] == 100]"
   ]
  },
  {
   "cell_type": "markdown",
   "metadata": {},
   "source": [
    "##### 3.12 Find out if age (in year) determines the the wine quality (represented by its score)"
   ]
  },
  {
   "cell_type": "code",
   "execution_count": null,
   "metadata": {},
   "outputs": [],
   "source": [
    "age = []\n",
    "age = df_wine['age'].value_counts().keys().to_list()\n",
    "average_age = []\n",
    "for a in age:\n",
    "    average_age.append(df_wine[df_wine['age'] == a].points.mean())\n",
    "df_age = pd.DataFrame({'age':age, 'points':average_age})\n",
    "df_age = df_age.sort_values(by=['age'], ascending=True).reset_index(drop=True)\n",
    "df_age = df_age.set_index('age')"
   ]
  },
  {
   "cell_type": "code",
   "execution_count": null,
   "metadata": {},
   "outputs": [],
   "source": [
    "df_age"
   ]
  },
  {
   "cell_type": "code",
   "execution_count": null,
   "metadata": {},
   "outputs": [],
   "source": [
    "df_age.plot(kind='line', figsize=(40,20))"
   ]
  },
  {
   "cell_type": "markdown",
   "metadata": {},
   "source": [
    "Analyzing the data comparing the points of the wines based on their age. Even though there are some extreme data and outliers, such as the significant decrease in points for wines of 40 years old, we can still see the gradual increase in points for wines from 0 years-old to around 50 years-old. After that, the points start to decrease as the wines’ age increases. The graph shows a distribution similar to a Weibull distribution."
   ]
  },
  {
   "cell_type": "markdown",
   "metadata": {},
   "source": [
    "##### 3.13 Find out if price (in USD) determines the the wine quality (represented by its score)"
   ]
  },
  {
   "cell_type": "code",
   "execution_count": null,
   "metadata": {},
   "outputs": [],
   "source": [
    "price = []\n",
    "price = df_wine['price'].value_counts().keys().to_list()\n",
    "average_price = []\n",
    "for a in price:\n",
    "    average_price.append(df_wine[df_wine['price'] == a].points.mean())\n",
    "df_price = pd.DataFrame({'price':price, 'points':average_price})\n",
    "df_price = df_price.sort_values(by=['price'], ascending=True).reset_index(drop=True)\n",
    "df_price = df_price.set_index('price')"
   ]
  },
  {
   "cell_type": "code",
   "execution_count": null,
   "metadata": {},
   "outputs": [],
   "source": [
    "df_price"
   ]
  },
  {
   "cell_type": "code",
   "execution_count": null,
   "metadata": {},
   "outputs": [],
   "source": [
    "df_price.plot(kind='line', figsize=(40,20))"
   ]
  },
  {
   "cell_type": "markdown",
   "metadata": {},
   "source": [
    "Analyzing the data comparing the points of the wines based on their price. There is no very clear distribution of this data. In other words, with the same price, there can be both very high or very low points given. It would be very difficult (or unlikely) to see the pattern of points by looking only at the price."
   ]
  },
  {
   "cell_type": "markdown",
   "metadata": {},
   "source": [
    "##### 3.14 Give suggestion to each wine taster based on their preferred winery and variety"
   ]
  },
  {
   "cell_type": "code",
   "execution_count": null,
   "metadata": {},
   "outputs": [],
   "source": [
    "def getSuggestion(dfWinery, dfVariety, tasterName):\n",
    "    return df_wine.loc[((df_wine['winery'] == dfWinery.index.tolist()[0])\n",
    "                                  | (df_wine['winery'] == dfWinery.index.tolist()[1])\n",
    "                                  | (df_wine['winery'] == dfWinery.index.tolist()[2])\n",
    "                                  | (df_wine['winery'] == dfWinery.index.tolist()[3])\n",
    "                                  | (df_wine['winery'] == dfWinery.index.tolist()[4])\n",
    "                                  | (df_wine['winery'] == dfWinery.index.tolist()[0])\n",
    "                                  | (df_wine['variety'] == dfVariety.index.tolist()[1])\n",
    "                                  | (df_wine['variety'] == dfVariety.index.tolist()[2])\n",
    "                                  | (df_wine['variety'] == dfVariety.index.tolist()[3])\n",
    "                                  | (df_wine['variety'] == dfVariety.index.tolist()[4]))\n",
    "                                 & (df_wine['taster_name'] != tasterName)]"
   ]
  },
  {
   "cell_type": "markdown",
   "metadata": {},
   "source": [
    "Wine suggestion list for Roger Voss"
   ]
  },
  {
   "cell_type": "code",
   "execution_count": null,
   "metadata": {},
   "outputs": [],
   "source": [
    "df_voss = df_wine.loc[df_wine['taster_name'] == 'Roger Voss']\n",
    "df_voss = df_voss.reset_index(drop=True)"
   ]
  },
  {
   "cell_type": "code",
   "execution_count": null,
   "metadata": {},
   "outputs": [],
   "source": [
    "winery_voss = []\n",
    "winery_voss = df_voss['winery'].value_counts().keys().to_list()\n",
    "average_winery_voss = []\n",
    "for a in winery_voss:\n",
    "    average_winery_voss.append(df_voss[df_voss['winery'] == a].points.mean())\n",
    "df_winery_voss = pd.DataFrame({'winery':winery_voss, 'points':average_winery_voss})\n",
    "df_winery_voss = df_winery_voss.sort_values(by=['points'], ascending=False).reset_index(drop=True)\n",
    "df_winery_voss = df_winery_voss.set_index('winery')"
   ]
  },
  {
   "cell_type": "code",
   "execution_count": null,
   "metadata": {},
   "outputs": [],
   "source": [
    "variety_voss = []\n",
    "variety_voss = df_voss['variety'].value_counts().keys().to_list()\n",
    "average_variety_voss = []\n",
    "for a in variety_voss:\n",
    "    average_variety_voss.append(df_voss[df_voss['variety'] == a].points.mean())\n",
    "df_variety_voss = pd.DataFrame({'variety':variety_voss, 'points':average_variety_voss})\n",
    "df_variety_voss = df_variety_voss.sort_values(by=['points'], ascending=False).reset_index(drop=True)\n",
    "df_variety_voss = df_variety_voss.set_index('variety')"
   ]
  },
  {
   "cell_type": "code",
   "execution_count": null,
   "metadata": {},
   "outputs": [],
   "source": [
    "df_suggestion_voss = getSuggestion(df_winery_voss, df_variety_voss, 'Roger Voss')\n",
    "df_suggestion_voss = df_suggestion_voss.sort_values(by=['points'], ascending=False).head()\n",
    "df_suggestion_voss"
   ]
  },
  {
   "cell_type": "markdown",
   "metadata": {},
   "source": [
    "Wine suggestion list for Michael Schachner"
   ]
  },
  {
   "cell_type": "code",
   "execution_count": null,
   "metadata": {},
   "outputs": [],
   "source": [
    "df_schachner = df_wine.loc[df_wine['taster_name'] == 'Michael Schachner']\n",
    "df_schachner = df_schachner.reset_index(drop=True)"
   ]
  },
  {
   "cell_type": "code",
   "execution_count": null,
   "metadata": {},
   "outputs": [],
   "source": [
    "winery_schachner = []\n",
    "winery_schachner = df_schachner['winery'].value_counts().keys().to_list()\n",
    "average_winery_schachner = []\n",
    "for a in winery_schachner:\n",
    "    average_winery_schachner.append(df_schachner[df_schachner['winery'] == a].points.mean())\n",
    "df_winery_schachner = pd.DataFrame({'winery':winery_schachner, 'points':average_winery_schachner})\n",
    "df_winery_schachner = df_winery_schachner.sort_values(by=['points'], ascending=False).reset_index(drop=True)\n",
    "df_winery_schachner = df_winery_schachner.set_index('winery')"
   ]
  },
  {
   "cell_type": "code",
   "execution_count": null,
   "metadata": {},
   "outputs": [],
   "source": [
    "variety_schachner = []\n",
    "variety_schachner = df_schachner['variety'].value_counts().keys().to_list()\n",
    "average_variety_schachner = []\n",
    "for a in variety_schachner:\n",
    "    average_variety_schachner.append(df_schachner[df_schachner['variety'] == a].points.mean())\n",
    "df_variety_schachner = pd.DataFrame({'variety':variety_schachner, 'points':average_variety_schachner})\n",
    "df_variety_schachner = df_variety_schachner.sort_values(by=['points'], ascending=False).reset_index(drop=True)\n",
    "df_variety_schachner = df_variety_schachner.set_index('variety')"
   ]
  },
  {
   "cell_type": "code",
   "execution_count": null,
   "metadata": {},
   "outputs": [],
   "source": [
    "df_suggestion_schachner = getSuggestion(df_winery_schachner, df_variety_schachner, 'Michael Schachner')\n",
    "df_suggestion_schachner = df_suggestion_schachner.sort_values(by=['points'], ascending=False).head()\n",
    "df_suggestion_schachner"
   ]
  },
  {
   "cell_type": "markdown",
   "metadata": {},
   "source": [
    "Wine suggestion list for Kerin O’Keefe"
   ]
  },
  {
   "cell_type": "code",
   "execution_count": null,
   "metadata": {},
   "outputs": [],
   "source": [
    "df_keefe = df_wine.loc[df_wine['taster_name'] == 'Kerin O’Keefe']\n",
    "df_keefe = df_keefe.reset_index(drop=True)"
   ]
  },
  {
   "cell_type": "code",
   "execution_count": null,
   "metadata": {},
   "outputs": [],
   "source": [
    "winery_keefe = []\n",
    "winery_keefe = df_keefe['winery'].value_counts().keys().to_list()\n",
    "average_winery_keefe = []\n",
    "for a in winery_keefe:\n",
    "    average_winery_keefe.append(df_keefe[df_keefe['winery'] == a].points.mean())\n",
    "df_winery_keefe = pd.DataFrame({'winery':winery_keefe, 'points':average_winery_keefe})\n",
    "df_winery_keefe = df_winery_keefe.sort_values(by=['points'], ascending=False).reset_index(drop=True)\n",
    "df_winery_keefe = df_winery_keefe.set_index('winery')"
   ]
  },
  {
   "cell_type": "code",
   "execution_count": null,
   "metadata": {},
   "outputs": [],
   "source": [
    "variety_keefe = []\n",
    "variety_keefe = df_keefe['variety'].value_counts().keys().to_list()\n",
    "average_variety_keefe = []\n",
    "for a in variety_keefe:\n",
    "    average_variety_keefe.append(df_keefe[df_keefe['variety'] == a].points.mean())\n",
    "df_variety_keefe = pd.DataFrame({'variety':variety_keefe, 'points':average_variety_keefe})\n",
    "df_variety_keefe = df_variety_keefe.sort_values(by=['points'], ascending=False).reset_index(drop=True)\n",
    "df_variety_keefe = df_variety_keefe.set_index('variety')"
   ]
  },
  {
   "cell_type": "code",
   "execution_count": null,
   "metadata": {},
   "outputs": [],
   "source": [
    "df_suggestion_keefe = getSuggestion(df_winery_keefe, df_variety_keefe, 'Kerin O’Keefe')\n",
    "df_suggestion_keefe = df_suggestion_keefe.sort_values(by=['points'], ascending=False).head()\n",
    "df_suggestion_keefe"
   ]
  },
  {
   "cell_type": "markdown",
   "metadata": {},
   "source": [
    "Wine suggestion list for Virginie Boone"
   ]
  },
  {
   "cell_type": "code",
   "execution_count": null,
   "metadata": {},
   "outputs": [],
   "source": [
    "df_boone = df_wine.loc[df_wine['taster_name'] == 'Virginie Boone']\n",
    "df_boone = df_boone.reset_index(drop=True)"
   ]
  },
  {
   "cell_type": "code",
   "execution_count": null,
   "metadata": {},
   "outputs": [],
   "source": [
    "winery_boone = []\n",
    "winery_boone = df_boone['winery'].value_counts().keys().to_list()\n",
    "average_winery_boone = []\n",
    "for a in winery_boone:\n",
    "    average_winery_boone.append(df_boone[df_boone['winery'] == a].points.mean())\n",
    "df_winery_boone = pd.DataFrame({'winery':winery_boone, 'points':average_winery_boone})\n",
    "df_winery_boone = df_winery_boone.sort_values(by=['points'], ascending=False).reset_index(drop=True)\n",
    "df_winery_boone = df_winery_boone.set_index('winery')"
   ]
  },
  {
   "cell_type": "code",
   "execution_count": null,
   "metadata": {},
   "outputs": [],
   "source": [
    "variety_boone = []\n",
    "variety_boone = df_boone['variety'].value_counts().keys().to_list()\n",
    "average_variety_boone = []\n",
    "for a in variety_boone:\n",
    "    average_variety_boone.append(df_boone[df_boone['variety'] == a].points.mean())\n",
    "df_variety_boone = pd.DataFrame({'variety':variety_boone, 'points':average_variety_boone})\n",
    "df_variety_boone = df_variety_boone.sort_values(by=['points'], ascending=False).reset_index(drop=True)\n",
    "df_variety_boone = df_variety_boone.set_index('variety')"
   ]
  },
  {
   "cell_type": "code",
   "execution_count": null,
   "metadata": {},
   "outputs": [],
   "source": [
    "df_suggestion_boone = getSuggestion(df_winery_boone, df_variety_boone, 'Virginie Boone')\n",
    "df_suggestion_boone = df_suggestion_boone.sort_values(by=['points'], ascending=False).head()\n",
    "df_suggestion_boone"
   ]
  },
  {
   "cell_type": "markdown",
   "metadata": {},
   "source": [
    "Wine suggestion list for Paul Gregutt"
   ]
  },
  {
   "cell_type": "code",
   "execution_count": null,
   "metadata": {},
   "outputs": [],
   "source": [
    "df_gregutt = df_wine.loc[df_wine['taster_name'] == 'Paul Gregutt']\n",
    "df_gregutt = df_gregutt.reset_index(drop=True)"
   ]
  },
  {
   "cell_type": "code",
   "execution_count": null,
   "metadata": {},
   "outputs": [],
   "source": [
    "winery_gregutt = []\n",
    "winery_gregutt = df_gregutt['winery'].value_counts().keys().to_list()\n",
    "average_winery_gregutt = []\n",
    "for a in winery_gregutt:\n",
    "    average_winery_gregutt.append(df_gregutt[df_gregutt['winery'] == a].points.mean())\n",
    "df_winery_gregutt = pd.DataFrame({'winery':winery_gregutt, 'points':average_winery_gregutt})\n",
    "df_winery_gregutt = df_winery_gregutt.sort_values(by=['points'], ascending=False).reset_index(drop=True)\n",
    "df_winery_gregutt = df_winery_gregutt.set_index('winery')"
   ]
  },
  {
   "cell_type": "code",
   "execution_count": null,
   "metadata": {},
   "outputs": [],
   "source": [
    "variety_gregutt = []\n",
    "variety_gregutt = df_gregutt['variety'].value_counts().keys().to_list()\n",
    "average_variety_gregutt = []\n",
    "for a in variety_gregutt:\n",
    "    average_variety_gregutt.append(df_gregutt[df_gregutt['variety'] == a].points.mean())\n",
    "df_variety_gregutt = pd.DataFrame({'variety':variety_gregutt, 'points':average_variety_gregutt})\n",
    "df_variety_gregutt = df_variety_gregutt.sort_values(by=['points'], ascending=False).reset_index(drop=True)\n",
    "df_variety_gregutt = df_variety_gregutt.set_index('variety')"
   ]
  },
  {
   "cell_type": "code",
   "execution_count": null,
   "metadata": {},
   "outputs": [],
   "source": [
    "df_suggestion_gregutt = getSuggestion(df_winery_gregutt, df_variety_gregutt, 'Virginie Boone')\n",
    "df_suggestion_gregutt = df_suggestion_gregutt.sort_values(by=['points'], ascending=False).head()\n",
    "df_suggestion_gregutt"
   ]
  },
  {
   "cell_type": "markdown",
   "metadata": {},
   "source": [
    "Wine suggestion list for Matt Kettmann"
   ]
  },
  {
   "cell_type": "code",
   "execution_count": null,
   "metadata": {},
   "outputs": [],
   "source": [
    "df_kettmann = df_wine.loc[df_wine['taster_name'] == 'Matt Kettmann']\n",
    "df_kettmann = df_kettmann.reset_index(drop=True)"
   ]
  },
  {
   "cell_type": "code",
   "execution_count": null,
   "metadata": {},
   "outputs": [],
   "source": [
    "winery_kettmann = []\n",
    "winery_kettmann = df_kettmann['winery'].value_counts().keys().to_list()\n",
    "average_winery_kettmann = []\n",
    "for a in winery_kettmann:\n",
    "    average_winery_kettmann.append(df_kettmann[df_kettmann['winery'] == a].points.mean())\n",
    "df_winery_kettmann = pd.DataFrame({'winery':winery_kettmann, 'points':average_winery_kettmann})\n",
    "df_winery_kettmann = df_winery_kettmann.sort_values(by=['points'], ascending=False).reset_index(drop=True)\n",
    "df_winery_kettmann = df_winery_kettmann.set_index('winery')"
   ]
  },
  {
   "cell_type": "code",
   "execution_count": null,
   "metadata": {},
   "outputs": [],
   "source": [
    "variety_kettmann = []\n",
    "variety_kettmann = df_kettmann['variety'].value_counts().keys().to_list()\n",
    "average_variety_kettmann = []\n",
    "for a in variety_kettmann:\n",
    "    average_variety_kettmann.append(df_kettmann[df_kettmann['variety'] == a].points.mean())\n",
    "df_variety_kettmann = pd.DataFrame({'variety':variety_kettmann, 'points':average_variety_kettmann})\n",
    "df_variety_kettmann = df_variety_kettmann.sort_values(by=['points'], ascending=False).reset_index(drop=True)\n",
    "df_variety_kettmann = df_variety_kettmann.set_index('variety')"
   ]
  },
  {
   "cell_type": "code",
   "execution_count": null,
   "metadata": {},
   "outputs": [],
   "source": [
    "df_suggestion_kettmann = getSuggestion(df_winery_kettmann, df_variety_kettmann, 'Matt Kettmann')\n",
    "df_suggestion_kettmann = df_suggestion_kettmann.sort_values(by=['points'], ascending=False).head()\n",
    "df_suggestion_kettmann"
   ]
  },
  {
   "cell_type": "markdown",
   "metadata": {},
   "source": [
    "Wine suggestion list for Joe Czerwinski"
   ]
  },
  {
   "cell_type": "code",
   "execution_count": null,
   "metadata": {},
   "outputs": [],
   "source": [
    "df_czerwinski = df_wine.loc[df_wine['taster_name'] == 'Joe Czerwinski']\n",
    "df_czerwinski = df_czerwinski.reset_index(drop=True)"
   ]
  },
  {
   "cell_type": "code",
   "execution_count": null,
   "metadata": {},
   "outputs": [],
   "source": [
    "winery_czerwinski = []\n",
    "winery_czerwinski = df_czerwinski['winery'].value_counts().keys().to_list()\n",
    "average_winery_czerwinski = []\n",
    "for a in winery_czerwinski:\n",
    "    average_winery_czerwinski.append(df_czerwinski[df_czerwinski['winery'] == a].points.mean())\n",
    "df_winery_czerwinski = pd.DataFrame({'winery':winery_czerwinski, 'points':average_winery_czerwinski})\n",
    "df_winery_czerwinski = df_winery_czerwinski.sort_values(by=['points'], ascending=False).reset_index(drop=True)\n",
    "df_winery_czerwinski = df_winery_czerwinski.set_index('winery')"
   ]
  },
  {
   "cell_type": "code",
   "execution_count": null,
   "metadata": {},
   "outputs": [],
   "source": [
    "variety_czerwinski = []\n",
    "variety_czerwinski = df_czerwinski['variety'].value_counts().keys().to_list()\n",
    "average_variety_czerwinski = []\n",
    "for a in variety_czerwinski:\n",
    "    average_variety_czerwinski.append(df_czerwinski[df_czerwinski['variety'] == a].points.mean())\n",
    "df_variety_czerwinski = pd.DataFrame({'variety':variety_czerwinski, 'points':average_variety_czerwinski})\n",
    "df_variety_czerwinski = df_variety_czerwinski.sort_values(by=['points'], ascending=False).reset_index(drop=True)\n",
    "df_variety_czerwinski = df_variety_czerwinski.set_index('variety')"
   ]
  },
  {
   "cell_type": "code",
   "execution_count": null,
   "metadata": {},
   "outputs": [],
   "source": [
    "df_suggestion_czerwinski = getSuggestion(df_winery_czerwinski, df_variety_czerwinski, 'Joe Czerwinski')\n",
    "df_suggestion_czerwinski = df_suggestion_czerwinski.sort_values(by=['points'], ascending=False).head()\n",
    "df_suggestion_czerwinski"
   ]
  },
  {
   "cell_type": "markdown",
   "metadata": {},
   "source": [
    "Wine suggestion list for Sean P. Sullivan"
   ]
  },
  {
   "cell_type": "code",
   "execution_count": null,
   "metadata": {},
   "outputs": [],
   "source": [
    "df_sullivan = df_wine.loc[df_wine['taster_name'] == 'Sean P. Sullivan']\n",
    "df_sullivan = df_sullivan.reset_index(drop=True)"
   ]
  },
  {
   "cell_type": "code",
   "execution_count": null,
   "metadata": {},
   "outputs": [],
   "source": [
    "winery_sullivan = []\n",
    "winery_sullivan = df_sullivan['winery'].value_counts().keys().to_list()\n",
    "average_winery_sullivan = []\n",
    "for a in winery_sullivan:\n",
    "    average_winery_sullivan.append(df_sullivan[df_sullivan['winery'] == a].points.mean())\n",
    "df_winery_sullivan = pd.DataFrame({'winery':winery_sullivan, 'points':average_winery_sullivan})\n",
    "df_winery_sullivan = df_winery_sullivan.sort_values(by=['points'], ascending=False).reset_index(drop=True)\n",
    "df_winery_sullivan = df_winery_sullivan.set_index('winery')"
   ]
  },
  {
   "cell_type": "code",
   "execution_count": null,
   "metadata": {},
   "outputs": [],
   "source": [
    "variety_sullivan = []\n",
    "variety_sullivan = df_sullivan['variety'].value_counts().keys().to_list()\n",
    "average_variety_sullivan = []\n",
    "for a in variety_sullivan:\n",
    "    average_variety_sullivan.append(df_sullivan[df_sullivan['variety'] == a].points.mean())\n",
    "df_variety_sullivan = pd.DataFrame({'variety':variety_sullivan, 'points':average_variety_sullivan})\n",
    "df_variety_sullivan = df_variety_sullivan.sort_values(by=['points'], ascending=False).reset_index(drop=True)\n",
    "df_variety_sullivan = df_variety_sullivan.set_index('variety')"
   ]
  },
  {
   "cell_type": "code",
   "execution_count": null,
   "metadata": {},
   "outputs": [],
   "source": [
    "df_suggestion_sullivan = getSuggestion(df_winery_sullivan, df_variety_sullivan, 'Sean P. Sullivan')\n",
    "df_suggestion_sullivan = df_suggestion_sullivan.sort_values(by=['points'], ascending=False).head()\n",
    "df_suggestion_sullivan"
   ]
  },
  {
   "cell_type": "markdown",
   "metadata": {},
   "source": [
    "Wine suggestion list for Anna Lee C. Iijima"
   ]
  },
  {
   "cell_type": "code",
   "execution_count": null,
   "metadata": {},
   "outputs": [],
   "source": [
    "df_iijima = df_wine.loc[df_wine['taster_name'] == 'Anna Lee C. Iijima']\n",
    "df_iijima = df_iijima.reset_index(drop=True)"
   ]
  },
  {
   "cell_type": "code",
   "execution_count": null,
   "metadata": {},
   "outputs": [],
   "source": [
    "winery_iijima = []\n",
    "winery_iijima = df_iijima['winery'].value_counts().keys().to_list()\n",
    "average_winery_iijima = []\n",
    "for a in winery_iijima:\n",
    "    average_winery_iijima.append(df_iijima[df_iijima['winery'] == a].points.mean())\n",
    "df_winery_iijima = pd.DataFrame({'winery':winery_iijima, 'points':average_winery_iijima})\n",
    "df_winery_iijima = df_winery_iijima.sort_values(by=['points'], ascending=False).reset_index(drop=True)\n",
    "df_winery_iijima = df_winery_iijima.set_index('winery')"
   ]
  },
  {
   "cell_type": "code",
   "execution_count": null,
   "metadata": {},
   "outputs": [],
   "source": [
    "variety_iijima = []\n",
    "variety_iijima = df_iijima['variety'].value_counts().keys().to_list()\n",
    "average_variety_iijima = []\n",
    "for a in variety_iijima:\n",
    "    average_variety_iijima.append(df_iijima[df_iijima['variety'] == a].points.mean())\n",
    "df_variety_iijima = pd.DataFrame({'variety':variety_iijima, 'points':average_variety_iijima})\n",
    "df_variety_iijima = df_variety_iijima.sort_values(by=['points'], ascending=False).reset_index(drop=True)\n",
    "df_variety_iijima = df_variety_iijima.set_index('variety')"
   ]
  },
  {
   "cell_type": "code",
   "execution_count": null,
   "metadata": {},
   "outputs": [],
   "source": [
    "df_suggestion_iijima = getSuggestion(df_winery_iijima, df_variety_iijima, 'Anna Lee C. Iijima')\n",
    "df_suggestion_iijima = df_suggestion_iijima.sort_values(by=['points'], ascending=False).head()\n",
    "df_suggestion_iijima"
   ]
  },
  {
   "cell_type": "markdown",
   "metadata": {},
   "source": [
    "Wine suggestion list for Jim Gordon"
   ]
  },
  {
   "cell_type": "code",
   "execution_count": null,
   "metadata": {},
   "outputs": [],
   "source": [
    "df_gordon = df_wine.loc[df_wine['taster_name'] == 'Jim Gordon']\n",
    "df_gordon = df_gordon.reset_index(drop=True)"
   ]
  },
  {
   "cell_type": "code",
   "execution_count": null,
   "metadata": {},
   "outputs": [],
   "source": [
    "winery_gordon = []\n",
    "winery_gordon = df_gordon['winery'].value_counts().keys().to_list()\n",
    "average_winery_gordon = []\n",
    "for a in winery_gordon:\n",
    "    average_winery_gordon.append(df_gordon[df_gordon['winery'] == a].points.mean())\n",
    "df_winery_gordon = pd.DataFrame({'winery':winery_gordon, 'points':average_winery_gordon})\n",
    "df_winery_gordon = df_winery_gordon.sort_values(by=['points'], ascending=False).reset_index(drop=True)\n",
    "df_winery_gordon = df_winery_gordon.set_index('winery')"
   ]
  },
  {
   "cell_type": "code",
   "execution_count": null,
   "metadata": {},
   "outputs": [],
   "source": [
    "variety_gordon = []\n",
    "variety_gordon = df_gordon['variety'].value_counts().keys().to_list()\n",
    "average_variety_gordon = []\n",
    "for a in variety_gordon:\n",
    "    average_variety_gordon.append(df_gordon[df_gordon['variety'] == a].points.mean())\n",
    "df_variety_gordon = pd.DataFrame({'variety':variety_gordon, 'points':average_variety_gordon})\n",
    "df_variety_gordon = df_variety_gordon.sort_values(by=['points'], ascending=False).reset_index(drop=True)\n",
    "df_variety_gordon = df_variety_gordon.set_index('variety')"
   ]
  },
  {
   "cell_type": "code",
   "execution_count": null,
   "metadata": {},
   "outputs": [],
   "source": [
    "df_suggestion_gordon = getSuggestion(df_winery_gordon, df_variety_gordon, 'Jim Gordon')\n",
    "df_suggestion_gordon = df_suggestion_gordon.sort_values(by=['points'], ascending=False).head()\n",
    "df_suggestion_gordon"
   ]
  },
  {
   "cell_type": "markdown",
   "metadata": {},
   "source": [
    "Wine suggestion list for Lauren Buzzeo"
   ]
  },
  {
   "cell_type": "code",
   "execution_count": null,
   "metadata": {},
   "outputs": [],
   "source": [
    "df_buzzeo = df_wine.loc[df_wine['taster_name'] == 'Lauren Buzzeo']\n",
    "df_buzzeo = df_buzzeo.reset_index(drop=True)"
   ]
  },
  {
   "cell_type": "code",
   "execution_count": null,
   "metadata": {},
   "outputs": [],
   "source": [
    "winery_buzzeo = []\n",
    "winery_buzzeo = df_buzzeo['winery'].value_counts().keys().to_list()\n",
    "average_winery_buzzeo = []\n",
    "for a in winery_buzzeo:\n",
    "    average_winery_buzzeo.append(df_buzzeo[df_buzzeo['winery'] == a].points.mean())\n",
    "df_winery_buzzeo = pd.DataFrame({'winery':winery_buzzeo, 'points':average_winery_buzzeo})\n",
    "df_winery_buzzeo = df_winery_buzzeo.sort_values(by=['points'], ascending=False).reset_index(drop=True)\n",
    "df_winery_buzzeo = df_winery_buzzeo.set_index('winery')"
   ]
  },
  {
   "cell_type": "code",
   "execution_count": null,
   "metadata": {},
   "outputs": [],
   "source": [
    "variety_buzzeo = []\n",
    "variety_buzzeo = df_buzzeo['variety'].value_counts().keys().to_list()\n",
    "average_variety_buzzeo = []\n",
    "for a in variety_buzzeo:\n",
    "    average_variety_buzzeo.append(df_buzzeo[df_buzzeo['variety'] == a].points.mean())\n",
    "df_variety_buzzeo = pd.DataFrame({'variety':variety_buzzeo, 'points':average_variety_buzzeo})\n",
    "df_variety_buzzeo = df_variety_buzzeo.sort_values(by=['points'], ascending=False).reset_index(drop=True)\n",
    "df_variety_buzzeo = df_variety_buzzeo.set_index('variety')"
   ]
  },
  {
   "cell_type": "code",
   "execution_count": null,
   "metadata": {},
   "outputs": [],
   "source": [
    "df_suggestion_buzzeo = getSuggestion(df_winery_buzzeo, df_variety_buzzeo, 'Lauren Buzzeo')\n",
    "df_suggestion_buzzeo = df_suggestion_buzzeo.sort_values(by=['points'], ascending=False).head()\n",
    "df_suggestion_buzzeo"
   ]
  },
  {
   "cell_type": "markdown",
   "metadata": {},
   "source": [
    "Wine suggestion list for Susan Kostrzewa"
   ]
  },
  {
   "cell_type": "code",
   "execution_count": null,
   "metadata": {},
   "outputs": [],
   "source": [
    "df_kostrzewa = df_wine.loc[df_wine['taster_name'] == 'Susan Kostrzewa']\n",
    "df_kostrzewa = df_kostrzewa.reset_index(drop=True)"
   ]
  },
  {
   "cell_type": "code",
   "execution_count": null,
   "metadata": {},
   "outputs": [],
   "source": [
    "winery_kostrzewa = []\n",
    "winery_kostrzewa = df_kostrzewa['winery'].value_counts().keys().to_list()\n",
    "average_winery_kostrzewa = []\n",
    "for a in winery_kostrzewa:\n",
    "    average_winery_kostrzewa.append(df_kostrzewa[df_kostrzewa['winery'] == a].points.mean())\n",
    "df_winery_kostrzewa = pd.DataFrame({'winery':winery_kostrzewa, 'points':average_winery_kostrzewa})\n",
    "df_winery_kostrzewa = df_winery_kostrzewa.sort_values(by=['points'], ascending=False).reset_index(drop=True)\n",
    "df_winery_kostrzewa = df_winery_kostrzewa.set_index('winery')"
   ]
  },
  {
   "cell_type": "code",
   "execution_count": null,
   "metadata": {},
   "outputs": [],
   "source": [
    "variety_kostrzewa = []\n",
    "variety_kostrzewa = df_kostrzewa['variety'].value_counts().keys().to_list()\n",
    "average_variety_kostrzewa = []\n",
    "for a in variety_kostrzewa:\n",
    "    average_variety_kostrzewa.append(df_kostrzewa[df_kostrzewa['variety'] == a].points.mean())\n",
    "df_variety_kostrzewa = pd.DataFrame({'variety':variety_kostrzewa, 'points':average_variety_kostrzewa})\n",
    "df_variety_kostrzewa = df_variety_kostrzewa.sort_values(by=['points'], ascending=False).reset_index(drop=True)\n",
    "df_variety_kostrzewa = df_variety_kostrzewa.set_index('variety')"
   ]
  },
  {
   "cell_type": "code",
   "execution_count": null,
   "metadata": {},
   "outputs": [],
   "source": [
    "df_suggestion_kostrzewa = getSuggestion(df_winery_kostrzewa, df_variety_kostrzewa, 'Susan Kostrzewa')\n",
    "df_suggestion_kostrzewa = df_suggestion_kostrzewa.sort_values(by=['points'], ascending=False).head()\n",
    "df_suggestion_kostrzewa"
   ]
  },
  {
   "cell_type": "markdown",
   "metadata": {},
   "source": [
    "Wine suggestion list for Mike DeSimone"
   ]
  },
  {
   "cell_type": "code",
   "execution_count": null,
   "metadata": {},
   "outputs": [],
   "source": [
    "df_desimone = df_wine.loc[df_wine['taster_name'] == 'Mike DeSimone']\n",
    "df_desimone = df_desimone.reset_index(drop=True)"
   ]
  },
  {
   "cell_type": "code",
   "execution_count": null,
   "metadata": {},
   "outputs": [],
   "source": [
    "winery_desimone = []\n",
    "winery_desimone = df_desimone['winery'].value_counts().keys().to_list()\n",
    "average_winery_desimone = []\n",
    "for a in winery_desimone:\n",
    "    average_winery_desimone.append(df_desimone[df_desimone['winery'] == a].points.mean())\n",
    "df_winery_desimone = pd.DataFrame({'winery':winery_desimone, 'points':average_winery_desimone})\n",
    "df_winery_desimone = df_winery_desimone.sort_values(by=['points'], ascending=False).reset_index(drop=True)\n",
    "df_winery_desimone = df_winery_desimone.set_index('winery')"
   ]
  },
  {
   "cell_type": "code",
   "execution_count": null,
   "metadata": {},
   "outputs": [],
   "source": [
    "variety_desimone = []\n",
    "variety_desimone = df_desimone['variety'].value_counts().keys().to_list()\n",
    "average_variety_desimone = []\n",
    "for a in variety_desimone:\n",
    "    average_variety_desimone.append(df_desimone[df_desimone['variety'] == a].points.mean())\n",
    "df_variety_desimone = pd.DataFrame({'variety':variety_desimone, 'points':average_variety_desimone})\n",
    "df_variety_desimone = df_variety_desimone.sort_values(by=['points'], ascending=False).reset_index(drop=True)\n",
    "df_variety_desimone = df_variety_desimone.set_index('variety')"
   ]
  },
  {
   "cell_type": "code",
   "execution_count": null,
   "metadata": {},
   "outputs": [],
   "source": [
    "df_suggestion_desimone = getSuggestion(df_winery_desimone, df_variety_desimone, 'Mike DeSimone')\n",
    "df_suggestion_desimone = df_suggestion_desimone.sort_values(by=['points'], ascending=False).head()\n",
    "df_suggestion_desimone"
   ]
  },
  {
   "cell_type": "markdown",
   "metadata": {},
   "source": [
    "Wine suggestion list for Jeff Jenssen"
   ]
  },
  {
   "cell_type": "code",
   "execution_count": null,
   "metadata": {},
   "outputs": [],
   "source": [
    "df_jenssen = df_wine.loc[df_wine['taster_name'] == 'Jeff Jenssen']\n",
    "df_jenssen = df_jenssen.reset_index(drop=True)"
   ]
  },
  {
   "cell_type": "code",
   "execution_count": null,
   "metadata": {},
   "outputs": [],
   "source": [
    "winery_jenssen = []\n",
    "winery_jenssen = df_jenssen['winery'].value_counts().keys().to_list()\n",
    "average_winery_jenssen = []\n",
    "for a in winery_jenssen:\n",
    "    average_winery_jenssen.append(df_jenssen[df_jenssen['winery'] == a].points.mean())\n",
    "df_winery_jenssen = pd.DataFrame({'winery':winery_jenssen, 'points':average_winery_jenssen})\n",
    "df_winery_jenssen = df_winery_jenssen.sort_values(by=['points'], ascending=False).reset_index(drop=True)\n",
    "df_winery_jenssen = df_winery_jenssen.set_index('winery')\n",
    "\n",
    "variety_jenssen = []\n",
    "variety_jenssen = df_jenssen['variety'].value_counts().keys().to_list()\n",
    "average_variety_jenssen = []\n",
    "for a in variety_jenssen:\n",
    "    average_variety_jenssen.append(df_jenssen[df_jenssen['variety'] == a].points.mean())\n",
    "df_variety_jenssen = pd.DataFrame({'variety':variety_jenssen, 'points':average_variety_jenssen})\n",
    "df_variety_jenssen = df_variety_jenssen.sort_values(by=['points'], ascending=False).reset_index(drop=True)\n",
    "df_variety_jenssen = df_variety_jenssen.set_index('variety')\n",
    "\n",
    "df_suggestion_jenssen = getSuggestion(df_winery_jenssen, df_variety_jenssen, 'Jeff Jenssen')\n",
    "df_suggestion_jenssen = df_suggestion_jenssen.sort_values(by=['points'], ascending=False).head()\n",
    "df_suggestion_jenssen"
   ]
  },
  {
   "cell_type": "markdown",
   "metadata": {},
   "source": [
    "Wine suggestion list for Alexander Peartree"
   ]
  },
  {
   "cell_type": "code",
   "execution_count": null,
   "metadata": {},
   "outputs": [],
   "source": [
    "df_peartree = df_wine.loc[df_wine['taster_name'] == 'Alexander Peartree']\n",
    "df_peartree = df_peartree.reset_index(drop=True)"
   ]
  },
  {
   "cell_type": "code",
   "execution_count": null,
   "metadata": {},
   "outputs": [],
   "source": [
    "winery_peartree = []\n",
    "winery_peartree = df_peartree['winery'].value_counts().keys().to_list()\n",
    "average_winery_peartree = []\n",
    "for a in winery_peartree:\n",
    "    average_winery_peartree.append(df_peartree[df_peartree['winery'] == a].points.mean())\n",
    "df_winery_peartree = pd.DataFrame({'winery':winery_peartree, 'points':average_winery_peartree})\n",
    "df_winery_peartree = df_winery_peartree.sort_values(by=['points'], ascending=False).reset_index(drop=True)\n",
    "df_winery_peartree = df_winery_peartree.set_index('winery')"
   ]
  },
  {
   "cell_type": "code",
   "execution_count": null,
   "metadata": {},
   "outputs": [],
   "source": [
    "variety_peartree = []\n",
    "variety_peartree = df_peartree['variety'].value_counts().keys().to_list()\n",
    "average_variety_peartree = []\n",
    "for a in variety_peartree:\n",
    "    average_variety_peartree.append(df_peartree[df_peartree['variety'] == a].points.mean())\n",
    "df_variety_peartree = pd.DataFrame({'variety':variety_peartree, 'points':average_variety_peartree})\n",
    "df_variety_peartree = df_variety_peartree.sort_values(by=['points'], ascending=False).reset_index(drop=True)\n",
    "df_variety_peartree = df_variety_peartree.set_index('variety')"
   ]
  },
  {
   "cell_type": "code",
   "execution_count": null,
   "metadata": {},
   "outputs": [],
   "source": [
    "df_suggestion_peartree = getSuggestion(df_winery_peartree, df_variety_peartree, 'Alexander Peartree')\n",
    "df_suggestion_peartree = df_suggestion_peartree.sort_values(by=['points'], ascending=False).head()\n",
    "df_suggestion_peartree"
   ]
  },
  {
   "cell_type": "markdown",
   "metadata": {},
   "source": [
    "Wine suggestion list for Carrie Dykes"
   ]
  },
  {
   "cell_type": "code",
   "execution_count": null,
   "metadata": {},
   "outputs": [],
   "source": [
    "df_dykes = df_wine.loc[df_wine['taster_name'] == 'Carrie Dykes']\n",
    "df_dykes = df_dykes.reset_index(drop=True)"
   ]
  },
  {
   "cell_type": "code",
   "execution_count": null,
   "metadata": {},
   "outputs": [],
   "source": [
    "winery_dykes = []\n",
    "winery_dykes = df_dykes['winery'].value_counts().keys().to_list()\n",
    "average_winery_dykes = []\n",
    "for a in winery_dykes:\n",
    "    average_winery_dykes.append(df_dykes[df_dykes['winery'] == a].points.mean())\n",
    "df_winery_dykes = pd.DataFrame({'winery':winery_dykes, 'points':average_winery_dykes})\n",
    "df_winery_dykes = df_winery_dykes.sort_values(by=['points'], ascending=False).reset_index(drop=True)\n",
    "df_winery_dykes = df_winery_dykes.set_index('winery')"
   ]
  },
  {
   "cell_type": "code",
   "execution_count": null,
   "metadata": {},
   "outputs": [],
   "source": [
    "variety_dykes = []\n",
    "variety_dykes = df_dykes['variety'].value_counts().keys().to_list()\n",
    "average_variety_dykes = []\n",
    "for a in variety_dykes:\n",
    "    average_variety_dykes.append(df_dykes[df_dykes['variety'] == a].points.mean())\n",
    "df_variety_dykes = pd.DataFrame({'variety':variety_dykes, 'points':average_variety_dykes})\n",
    "df_variety_dykes = df_variety_dykes.sort_values(by=['points'], ascending=False).reset_index(drop=True)\n",
    "df_variety_dykes = df_variety_dykes.set_index('variety')"
   ]
  },
  {
   "cell_type": "code",
   "execution_count": null,
   "metadata": {},
   "outputs": [],
   "source": [
    "df_suggestion_dykes = getSuggestion(df_winery_dykes, df_variety_dykes, 'Carrie Dykes')\n",
    "df_suggestion_dykes = df_suggestion_dykes.sort_values(by=['points'], ascending=False).head()\n",
    "df_suggestion_dykes"
   ]
  },
  {
   "cell_type": "markdown",
   "metadata": {},
   "source": [
    "Wine suggestion list for Fiona Adams"
   ]
  },
  {
   "cell_type": "code",
   "execution_count": null,
   "metadata": {},
   "outputs": [],
   "source": [
    "df_adams = df_wine.loc[df_wine['taster_name'] == 'Fiona Adams']\n",
    "df_adams = df_adams.reset_index(drop=True)"
   ]
  },
  {
   "cell_type": "code",
   "execution_count": null,
   "metadata": {},
   "outputs": [],
   "source": [
    "winery_adams = []\n",
    "winery_adams = df_adams['winery'].value_counts().keys().to_list()\n",
    "average_winery_adams = []\n",
    "for a in winery_adams:\n",
    "    average_winery_adams.append(df_adams[df_adams['winery'] == a].points.mean())\n",
    "df_winery_adams = pd.DataFrame({'winery':winery_adams, 'points':average_winery_adams})\n",
    "df_winery_adams = df_winery_adams.sort_values(by=['points'], ascending=False).reset_index(drop=True)\n",
    "df_winery_adams = df_winery_adams.set_index('winery')"
   ]
  },
  {
   "cell_type": "code",
   "execution_count": null,
   "metadata": {},
   "outputs": [],
   "source": [
    "variety_adams = []\n",
    "variety_adams = df_adams['variety'].value_counts().keys().to_list()\n",
    "average_variety_adams = []\n",
    "for a in variety_adams:\n",
    "    average_variety_adams.append(df_adams[df_adams['variety'] == a].points.mean())\n",
    "df_variety_adams = pd.DataFrame({'variety':variety_adams, 'points':average_variety_adams})\n",
    "df_variety_adams = df_variety_adams.sort_values(by=['points'], ascending=False).reset_index(drop=True)\n",
    "df_variety_adams = df_variety_adams.set_index('variety')"
   ]
  },
  {
   "cell_type": "code",
   "execution_count": null,
   "metadata": {},
   "outputs": [],
   "source": [
    "df_suggestion_adams = getSuggestion(df_winery_adams, df_variety_adams, 'Fiona Adams')\n",
    "df_suggestion_adams = df_suggestion_adams.sort_values(by=['points'], ascending=False).head()\n",
    "df_suggestion_adams"
   ]
  },
  {
   "cell_type": "markdown",
   "metadata": {},
   "source": [
    "Wine suggestion list for Christina Pickard"
   ]
  },
  {
   "cell_type": "code",
   "execution_count": null,
   "metadata": {},
   "outputs": [],
   "source": [
    "df_pickard = df_wine.loc[df_wine['taster_name'] == 'Christina Pickard']\n",
    "df_pickard = df_pickard.reset_index(drop=True)"
   ]
  },
  {
   "cell_type": "code",
   "execution_count": null,
   "metadata": {},
   "outputs": [],
   "source": [
    "winery_pickard = []\n",
    "winery_pickard = df_pickard['winery'].value_counts().keys().to_list()\n",
    "average_winery_pickard = []\n",
    "for a in winery_pickard:\n",
    "    average_winery_pickard.append(df_pickard[df_pickard['winery'] == a].points.mean())\n",
    "df_winery_pickard = pd.DataFrame({'winery':winery_pickard, 'points':average_winery_pickard})\n",
    "df_winery_pickard = df_winery_pickard.sort_values(by=['points'], ascending=False).reset_index(drop=True)\n",
    "df_winery_pickard = df_winery_pickard.set_index('winery')"
   ]
  },
  {
   "cell_type": "code",
   "execution_count": null,
   "metadata": {},
   "outputs": [],
   "source": [
    "variety_pickard = []\n",
    "variety_pickard = df_pickard['variety'].value_counts().keys().to_list()\n",
    "average_variety_pickard = []\n",
    "for a in variety_pickard:\n",
    "    average_variety_pickard.append(df_pickard[df_pickard['variety'] == a].points.mean())\n",
    "df_variety_pickard = pd.DataFrame({'variety':variety_pickard, 'points':average_variety_pickard})\n",
    "df_variety_pickard = df_variety_pickard.sort_values(by=['points'], ascending=False).reset_index(drop=True)\n",
    "df_variety_pickard = df_variety_pickard.set_index('variety')"
   ]
  },
  {
   "cell_type": "code",
   "execution_count": null,
   "metadata": {},
   "outputs": [],
   "source": [
    "df_suggestion_pickard = getSuggestion(df_winery_pickard, df_variety_pickard, 'Christina Pickard')\n",
    "df_suggestion_pickard = df_suggestion_pickard.sort_values(by=['points'], ascending=False).head()\n",
    "df_suggestion_pickard"
   ]
  },
  {
   "cell_type": "markdown",
   "metadata": {},
   "source": [
    "While we need to compare the wines based on where they are made and what kind of grapes they were made out of, we group the rows that have the same value in specific columns (i.e. country, winery) and take the mean of the point values. For comparing wines from different continents, we create a function that will group the countries based on the continents they’re in, then do the same thing for calculating each continent’s point. We took the mean of the points because we should be looking at the average/mean of the points to get a fair analysis of the data.\n",
    "\n",
    "In order to answer question 4 and 6, we have to see how rating points as the age or price of the wine increases. Thus, we created a function that will calculate the age of the wine and created two line plots, one for price and one for age, to visualize the price change along with age and price. We chose to use line plot in order to see how points change based on age/price.\n",
    "\n",
    "For the last part of the analysis, we want to know which wine would each wine taster recommend. Hence, we group the data based on the tasters’ names and sort them based on the wines’ points. The highest pointed wine would likely be the wine each taster would recommend."
   ]
  },
  {
   "cell_type": "markdown",
   "metadata": {},
   "source": [
    "# Ethics & Privacy"
   ]
  },
  {
   "cell_type": "markdown",
   "metadata": {},
   "source": [
    "The data we used is free for public use and can be collected from a website of wine reviews. It provides its licence on CC BY-NC-SA 4.0 that says we are free to share (copy and redistribute the material in any medium or format) and adapt (remix, transform, and build upon the material). As we go through our datasets, any data containing personal information will be discarded unhesitatingly to secure the privacy of the wine testers, for example their twitter accounts. Therefore, there will be no personal data that will be used inappropriately. There are potential sources of bias with this data. This dataset only contains data from WineEnthusiast. If there are other relevant big datasets similar to what we use, that may be problematic in terms of it allowing for equitable analysis. There can possibly be different answers within either of the two big datasets, if there are any, causing bias in our analysis. Adding on to that, one of our dataset variables lists out nineteen wine testers who gave out all the wine ratings. This is also likely to reflect human biases in a way that could be a problem, however, the only rational way to rate the taste quality of wines is to actually try it on humans. There is as well another bias as in the dataset as it compiles the scores of wines that are only 80 points above which gives us some incomplete findings unlike if we were to use all wine ratings from 0 to 100 points."
   ]
  },
  {
   "cell_type": "markdown",
   "metadata": {},
   "source": [
    "# Conclusion & Discussion"
   ]
  },
  {
   "cell_type": "markdown",
   "metadata": {},
   "source": [
    "According to our hypothesis of the best wine, we thought it would be the Chateau Montelena Napa Valley Chardonnay 2016 and the grape type of Chardonnay. We were wrong in our initial hypothesis because according to our findings, the best wine overall in terms of ratings are Chateau, Sauvignon, etc. There are 17 wines that might be good recommendations  to the public consumers as they were best picked by 19 professional wine testers (sommeliers) with perfect score of 100. These wines include: Salon 2006 Le Mesnil Blanc de Blancs Brut, Château Léoville Las Cases 2010 Saint-Julien, Casa Ferreirinha 2008 Barca-Velha Red (Douro), Château Léoville Barton 2010 Saint-Julien, Cayuse 2008 Bionic Frog Syrah, and 12 other wines. A type of grape is a big factor that determines the taste of the wine since they are what wine is all about after all. We were wrong about our hypothesis that the best grapes being Chardonnay. From our data analysis, we were able to get the type of grape that produces the best wine with a common type of grape is Tinda del Pais, giving us a rating of 95 out of 100.\n",
    "\n",
    "We also missed a bit from our hypothesis on analyzing the best wine in terms of continent and country. We hypothesize that Europe would produce the most high-rated wines among other continents which we were right about. Europe has the average of 88.609 out of 100, slightly higher than North America with 0.051609%. However, in terms of country, our initial thought that France would be the top wine country was wrong. Based on our data analysis, we could obviously see that England is the country that produces the highest-rated wines with the average point of 91.581 out of 100, higher than the second leading country, India, with 1.506%. However, a slight contrary to that result occured as we were getting more information from our dataset. We collected that the best winery with the best ratings of wine overall is in Araujo with average point of 98 out of 100, and the second one is Gandona with 97 out of 100, although both of them are located in California.\n", 
    "\n",
    "For our next hypothesis, we thought as the wine ages more, they would increase in quality reflected in their price value, which also directly means that they would increase in terms of their ratings as wine enthusiasts would then enjoy aged wine more. However, we were only partially correct as it turned out that the age mattered but not the price. According to our graph analysis, the wine ratings given gradually increases as the wine ages whereas the price fluctuates so much that we could not come to a conclusion that price contributes to the ratings.\n",
    "\n",
    "We wanted to further our analysis and we then wanted to use our report to include the questions of which wines would be a good recommendation to each wine tasters based on their preferred winery and types of grapes. We were able to get the wine preference of each of the tasters and we are able to give them suggestions based on the wines they have evaluated. For example, one of the wine taster, Roger Voss, we successfully listed out 5 top wine suggestions based on their high-scored winery and type of grapes: Salon 1985 Le Mesnil Blanc de Blancs Brut, Salon 1988 Le Mesnil Blanc de Blancs Brut, Knipser 2008 Trocken Chardonnay Weissburgunder, Krug 1988 Brut (Champagne),  and Krug NV Grande Cuvée Brut (Champagne).\n",
    "\n",
    "On top of all our analysis, we would like to predict wine ratings that would be given to a new wine never tested before based on its taster name, winery, variety, country, continent, age and price if they have correlation.\n" 
   ]
  },
  {
   "cell_type": "markdown",
   "metadata": {},
   "source": [
    "# Team Contributions"
   ]
  },
  {
   "cell_type": "markdown",
   "metadata": {},
   "source": [
    "We first brainstormed on what kind of data we would like to work on together and came up to the conclusion of the wine testing. Natalia Sudjana and Gabriela Shirley first did background research on the wine testing. Devin Junanto as well as Shih Gau Peng then proceeded to do the data wrangling as they cleaned up the data sets and took whatever is necessary for our analysis while Natalia and Gabriela were refining the questions, hypothesis as well as doing the reports. Natalia and Shirley then started to do the analysis after the clean up and drew on correlations and linked necessary datas to answer the research questions. Devin and Shih Gau then made the necessary adjustments as edits to clean up our data. We discussed as a team of our findings to speak of our final thoughts and finalize the results. Natalia and Shirley then recorded them to the final report."
   ]
  }
 ],
 "metadata": {
  "kernelspec": {
   "display_name": "Python 3",
   "language": "python",
   "name": "python3"
  },
  "language_info": {
   "codemirror_mode": {
    "name": "ipython",
    "version": 3
   },
   "file_extension": ".py",
   "mimetype": "text/x-python",
   "name": "python",
   "nbconvert_exporter": "python",
   "pygments_lexer": "ipython3",
   "version": "3.8.1"
  }
 },
 "nbformat": 4,
 "nbformat_minor": 2
}
